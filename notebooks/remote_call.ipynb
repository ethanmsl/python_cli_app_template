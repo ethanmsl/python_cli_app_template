{
 "cells": [
  {
   "cell_type": "markdown",
   "id": "ac07da8c-5272-4128-81a4-d8224e8fa25b",
   "metadata": {},
   "source": [
    "# Some Simple PagerDuty Data Pulls"
   ]
  },
  {
   "cell_type": "markdown",
   "id": "7b36e3f0-3d38-4fe1-859d-3066905fc030",
   "metadata": {},
   "source": [
    "## Get API keys from `.env` and declare headers for re-use"
   ]
  },
  {
   "cell_type": "code",
   "execution_count": 1,
   "id": "2f2539d4-3165-4b9f-8a88-d36a1ebb5c50",
   "metadata": {},
   "outputs": [
    {
     "name": "stdout",
     "output_type": "stream",
     "text": [
      "`headers` set to `headers_personal` :)\n"
     ]
    }
   ],
   "source": [
    "import httpx\n",
    "import polars as pl\n",
    "import dotenv\n",
    "\n",
    "# Note: a `.env` file needs to be made in the root.  The `data/template.env` serves as a template and the `just init` command will auto-copy it, but requires the personal key be specified, of course.\n",
    "personal_api_key = dotenv.get_key('../.env', 'PAGERDUTY_REST_API_KEY')\n",
    "public_demonstration_api_key = dotenv.get_key('../.env', 'PAGERDUTY_API_CONCEPTS_EXAMPLE_KEY')\n",
    "\n",
    "\n",
    "token_request_prefix = \"Token token=\"\n",
    "\n",
    "# try headers for personal repo\n",
    "if personal_api_key is not None:\n",
    "    headers_personal = {\n",
    "        \"Accept\": \"application/json\",\n",
    "        \"Authorization\": (token_request_prefix + personal_api_key),\n",
    "        \"Content-Type\": \"application/json\"\n",
    "    }\n",
    "else:\n",
    "    print(\"PAGERDUTY_REST_API_KEY not found.  Check whether declared in `.env` and dotenv pathing\")\n",
    "\n",
    "# try headers for public example repo\n",
    "if public_demonstration_api_key is not None:\n",
    "    headers_publicizable_example = {\n",
    "        \"Accept\": \"application/json\",\n",
    "        \"Authorization\": (token_request_prefix + public_demonstration_api_key),\n",
    "        \"Content-Type\": \"application/json\"\n",
    "    }\n",
    "else:\n",
    "    print(\"PAGERDUTY_API_CONCEPTS_EXAMPLE_KEY not found.  Check whether `.env` was copied from `data/template.env` and dotenv pathing\")\n",
    "\n",
    "\n",
    "# declare default `headers` value\n",
    "if headers_personal is not None:\n",
    "    headers = headers_personal\n",
    "    print(\"`headers` set to `headers_personal` :)\")\n",
    "elif headers_publicizable_example is not None:\n",
    "    headers = headers_publicizable_example\n",
    "    print(\"`headers` set to `headers_publicizable_example` :)\")\n",
    "else:\n",
    "    print(\"No `headers` variable set.  Code below will not run.\")"
   ]
  },
  {
   "cell_type": "code",
   "execution_count": 2,
   "id": "c885ae2e-a548-4529-bcc1-c18f0e7b27e2",
   "metadata": {
    "jupyter": {
     "source_hidden": true
    }
   },
   "outputs": [
    {
     "data": {
      "text/plain": [
       "'https://api.pagerduty.com'"
      ]
     },
     "execution_count": 2,
     "metadata": {},
     "output_type": "execute_result"
    }
   ],
   "source": [
    "# Setting Base URL\n",
    "base_url = \"https://api.pagerduty.com\"\n",
    "base_url"
   ]
  },
  {
   "cell_type": "markdown",
   "id": "6c45ab58-a13d-462a-8332-59c427bdc2ac",
   "metadata": {},
   "source": [
    "#### Manually Switch Headers to Example here if you like"
   ]
  },
  {
   "cell_type": "code",
   "execution_count": 3,
   "id": "bcf42025-b548-4052-93d2-d322c768ee80",
   "metadata": {},
   "outputs": [],
   "source": [
    "#headers = headers_personal\n",
    "headers = headers_publicizable_example"
   ]
  },
  {
   "cell_type": "markdown",
   "id": "2bd00a96-9294-49ea-be97-a6d6330b7803",
   "metadata": {},
   "source": [
    "## API Calls to DataFrames"
   ]
  },
  {
   "cell_type": "markdown",
   "id": "17dc02e8-df03-4ce6-8c2f-c88257a1338e",
   "metadata": {},
   "source": [
    "### GET Users"
   ]
  },
  {
   "cell_type": "code",
   "execution_count": 4,
   "id": "da8eccbd-14e9-44a5-b035-685e69fbe18c",
   "metadata": {},
   "outputs": [
    {
     "name": "stdout",
     "output_type": "stream",
     "text": [
      "GET ../users: <Response [200 OK]>\n",
      "\n",
      "Was success!: shape: (5, 19)\n",
      "┌────────────┬────────────┬────────────┬────────────┬───┬──────┬───────────┬───────────┬───────────┐\n",
      "│ name       ┆ email      ┆ time_zone  ┆ color      ┆ … ┆ type ┆ summary   ┆ self      ┆ html_url  │\n",
      "│ ---        ┆ ---        ┆ ---        ┆ ---        ┆   ┆ ---  ┆ ---       ┆ ---       ┆ ---       │\n",
      "│ str        ┆ str        ┆ str        ┆ str        ┆   ┆ str  ┆ str       ┆ str       ┆ str       │\n",
      "╞════════════╪════════════╪════════════╪════════════╪═══╪══════╪═══════════╪═══════════╪═══════════╡\n",
      "│ Alan B.    ┆ alan.shepa ┆ America/Lo ┆ blue-viole ┆ … ┆ user ┆ Alan B.   ┆ https://a ┆ https://p │\n",
      "│ Shepard,   ┆ rd@nasa.ex ┆ s_Angeles  ┆ t          ┆   ┆      ┆ Shepard,  ┆ pi.pagerd ┆ dt-apidoc │\n",
      "│ Jr.        ┆ ample      ┆            ┆            ┆   ┆      ┆ Jr.       ┆ uty.com/u ┆ s.pagerdu │\n",
      "│            ┆            ┆            ┆            ┆   ┆      ┆           ┆ sers/…    ┆ ty.co…    │\n",
      "│ Aleksei    ┆ aleksei.so ┆ America/Lo ┆ deep-pink  ┆ … ┆ user ┆ Aleksei   ┆ https://a ┆ https://p │\n",
      "│ Sorokin    ┆ rokin@ussr ┆ s_Angeles  ┆            ┆   ┆      ┆ Sorokin   ┆ pi.pagerd ┆ dt-apidoc │\n",
      "│            ┆ .example   ┆            ┆            ┆   ┆      ┆           ┆ uty.com/u ┆ s.pagerdu │\n",
      "│            ┆            ┆            ┆            ┆   ┆      ┆           ┆ sers/…    ┆ ty.co…    │\n",
      "│ Andriyan   ┆ andriyan.n ┆ America/Lo ┆ chocolate  ┆ … ┆ user ┆ Andriyan  ┆ https://a ┆ https://p │\n",
      "│ Nikolayev  ┆ ikolayev@u ┆ s_Angeles  ┆            ┆   ┆      ┆ Nikolayev ┆ pi.pagerd ┆ dt-apidoc │\n",
      "│            ┆ ssr.exampl ┆            ┆            ┆   ┆      ┆           ┆ uty.com/u ┆ s.pagerdu │\n",
      "│            ┆ e          ┆            ┆            ┆   ┆      ┆           ┆ sers/…    ┆ ty.co…    │\n",
      "│ Belka      ┆ belka@ussr ┆ America/Lo ┆ deep-pink  ┆ … ┆ user ┆ Belka     ┆ https://a ┆ https://p │\n",
      "│            ┆ .example   ┆ s_Angeles  ┆            ┆   ┆      ┆           ┆ pi.pagerd ┆ dt-apidoc │\n",
      "│            ┆            ┆            ┆            ┆   ┆      ┆           ┆ uty.com/u ┆ s.pagerdu │\n",
      "│            ┆            ┆            ┆            ┆   ┆      ┆           ┆ sers/…    ┆ ty.co…    │\n",
      "│ Boris      ┆ boris.voly ┆ America/Lo ┆ medium-vio ┆ … ┆ user ┆ Boris     ┆ https://a ┆ https://p │\n",
      "│ Volynov    ┆ nov@ussr.e ┆ s_Angeles  ┆ let-red    ┆   ┆      ┆ Volynov   ┆ pi.pagerd ┆ dt-apidoc │\n",
      "│            ┆ xample     ┆            ┆            ┆   ┆      ┆           ┆ uty.com/u ┆ s.pagerdu │\n",
      "│            ┆            ┆            ┆            ┆   ┆      ┆           ┆ sers/…    ┆ ty.co…    │\n",
      "└────────────┴────────────┴────────────┴────────────┴───┴──────┴───────────┴───────────┴───────────┘\n",
      "\n"
     ]
    }
   ],
   "source": [
    "endpoint = \"users\"\n",
    "url  = base_url + \"/\" + endpoint\n",
    "\n",
    "with httpx.Client() as client:\n",
    "    getuser_response = client.get(url, headers=headers)\n",
    "\n",
    "print(f\"GET ../users: {getuser_response}\\n\")\n",
    "\n",
    "if getuser_response.is_success:\n",
    " \n",
    "    dict = getuser_response.json()\n",
    "    # print(dict)\n",
    "    users_df = pl.DataFrame(dict.get(endpoint,[]))\n",
    "    print(f\"Was success!: {users_df.head(5)}\\n\")\n",
    "else:\n",
    "    print(\"Was NOT a success.\")\n",
    "    print(f\"Error: {getuser_response.status_code}\")"
   ]
  },
  {
   "cell_type": "markdown",
   "id": "b2591fdb-6edb-419f-ba24-093e1aa5c376",
   "metadata": {},
   "source": [
    "### GET Licenses"
   ]
  },
  {
   "cell_type": "code",
   "execution_count": 5,
   "id": "1919df85-0156-4a70-9cca-9534a3114e43",
   "metadata": {},
   "outputs": [
    {
     "name": "stdout",
     "output_type": "stream",
     "text": [
      "GET ../licenses response: <Response [200 OK]>\n",
      "\n",
      "Was success!: shape: (2, 11)\n",
      "┌─────────────┬─────────────┬────────────┬──────────┬───┬──────┬────────────┬─────────┬────────────┐\n",
      "│ allocations ┆ current_val ┆ descriptio ┆ html_url ┆ … ┆ self ┆ summary    ┆ type    ┆ valid_role │\n",
      "│ _available  ┆ ue          ┆ n          ┆ ---      ┆   ┆ ---  ┆ ---        ┆ ---     ┆ s          │\n",
      "│ ---         ┆ ---         ┆ ---        ┆ null     ┆   ┆ null ┆ str        ┆ str     ┆ ---        │\n",
      "│ i64         ┆ i64         ┆ str        ┆          ┆   ┆      ┆            ┆         ┆ list[str]  │\n",
      "╞═════════════╪═════════════╪════════════╪══════════╪═══╪══════╪════════════╪═════════╪════════════╡\n",
      "│ 106         ┆ 44          ┆            ┆ null     ┆ … ┆ null ┆ Digital    ┆ license ┆ [\"owner\",  │\n",
      "│             ┆             ┆            ┆          ┆   ┆      ┆ Operations ┆         ┆ \"admin\", … │\n",
      "│             ┆             ┆            ┆          ┆   ┆      ┆ (Full      ┆         ┆ \"restricte │\n",
      "│             ┆             ┆            ┆          ┆   ┆      ┆ User)      ┆         ┆ d…         │\n",
      "│ 146         ┆ 4           ┆            ┆ null     ┆ … ┆ null ┆ Digital    ┆ license ┆ [\"read_onl │\n",
      "│             ┆             ┆            ┆          ┆   ┆      ┆ Operations ┆         ┆ y_user\",   │\n",
      "│             ┆             ┆            ┆          ┆   ┆      ┆ (Stakehold ┆         ┆ \"read_only │\n",
      "│             ┆             ┆            ┆          ┆   ┆      ┆ er)        ┆         ┆ _li…       │\n",
      "└─────────────┴─────────────┴────────────┴──────────┴───┴──────┴────────────┴─────────┴────────────┘\n",
      "\n"
     ]
    }
   ],
   "source": [
    "endpoint = \"licenses\"\n",
    "url  = base_url + \"/\" + endpoint\n",
    "with httpx.Client() as client:\n",
    "    response = client.get(url, headers=headers)\n",
    "\n",
    "print(f\"GET ../licenses response: {response}\\n\")\n",
    "\n",
    "if response.is_success:\n",
    "    \n",
    "    dict = response.json()\n",
    "    #print(dict)\n",
    "    licenses_df = pl.DataFrame(dict.get(endpoint,[]))\n",
    "    print(f\"Was success!: {licenses_df}\\n\")\n",
    "else:\n",
    "    print(\"Was NOT a success.\")\n",
    "    print(f\"Error: {getuser_response.status_code}\")"
   ]
  },
  {
   "cell_type": "markdown",
   "id": "3f9456b4-0b8c-441e-bb05-72b51c4f8d54",
   "metadata": {},
   "source": [
    "### GET License_Allocations"
   ]
  },
  {
   "cell_type": "code",
   "execution_count": 29,
   "id": "4f05c914-7351-41b1-96b2-323521ed1b82",
   "metadata": {},
   "outputs": [
    {
     "name": "stdout",
     "output_type": "stream",
     "text": [
      "GET ..//license_allocations: <Response [200 OK]>\n",
      "\n",
      "Was success!: shape: (48, 3)\n",
      "┌─────────────────────┬───────────────────────────────────┬──────────────────────────────┐\n",
      "│ allocated_at        ┆ license                           ┆ user                         │\n",
      "│ ---                 ┆ ---                               ┆ ---                          │\n",
      "│ str                 ┆ struct[9]                         ┆ struct[2]                    │\n",
      "╞═════════════════════╪═══════════════════════════════════╪══════════════════════════════╡\n",
      "│ 2022-01-20T10:07:36 ┆ {\"\",null,\"PHAWL6E\",\"Digital Oper… ┆ {\"PPC00ZX\",\"user_reference\"} │\n",
      "│ 2022-01-20T10:07:37 ┆ {\"\",null,\"PHAWL6E\",\"Digital Oper… ┆ {\"PCA13N7\",\"user_reference\"} │\n",
      "│ 2022-01-20T10:07:37 ┆ {\"\",null,\"PHAWL6E\",\"Digital Oper… ┆ {\"PVRS1IU\",\"user_reference\"} │\n",
      "│ 2022-01-20T10:07:37 ┆ {\"\",null,\"PHAWL6E\",\"Digital Oper… ┆ {\"PRF4164\",\"user_reference\"} │\n",
      "│ …                   ┆ …                                 ┆ …                            │\n",
      "│ 2022-01-20T10:07:37 ┆ {\"\",null,\"PE18KUR\",\"Digital Oper… ┆ {\"PZ0D2XH\",\"user_reference\"} │\n",
      "│ 2022-01-20T10:07:38 ┆ {\"\",null,\"PE18KUR\",\"Digital Oper… ┆ {\"P7WUMER\",\"user_reference\"} │\n",
      "│ 2022-01-20T10:07:38 ┆ {\"\",null,\"PE18KUR\",\"Digital Oper… ┆ {\"P3K6M21\",\"user_reference\"} │\n",
      "│ 2022-01-20T10:07:39 ┆ {\"\",null,\"PE18KUR\",\"Digital Oper… ┆ {\"PDEHYI9\",\"user_reference\"} │\n",
      "└─────────────────────┴───────────────────────────────────┴──────────────────────────────┘\n",
      "\n"
     ]
    }
   ],
   "source": [
    "endpoint = \"license_allocations\"\n",
    "url  = base_url + \"/\" + endpoint\n",
    "\n",
    "with httpx.Client() as client:\n",
    "    response = client.get(url, headers=headers)\n",
    "    \n",
    "print(f\"GET ..//license_allocations: {response}\\n\")\n",
    "\n",
    "if response.is_success:\n",
    "    dict = response.json()\n",
    "    lic_allocs = dict.get(endpoint,[])\n",
    "    lic_allocs_df = pl.DataFrame(lic_allocs)\n",
    "    print(f\"Was success!: {lic_allocs_df}\\n\")\n",
    "else:\n",
    "    print(\"Was NOT a success.\")\n",
    "    print(f\"Error: {getuser_response.status_code}\")"
   ]
  },
  {
   "cell_type": "markdown",
   "id": "8c63a0a8-364c-4ca7-b9f3-2587377ad24a",
   "metadata": {},
   "source": [
    "## Data Display & Exploration"
   ]
  },
  {
   "cell_type": "code",
   "execution_count": 14,
   "id": "b40641e3-08d0-4b6e-9a9c-976ab03a6a3c",
   "metadata": {},
   "outputs": [
    {
     "data": {
      "text/html": [
       "<div><style>\n",
       ".dataframe > thead > tr,\n",
       ".dataframe > tbody > tr {\n",
       "  text-align: right;\n",
       "  white-space: pre-wrap;\n",
       "}\n",
       "</style>\n",
       "<small>shape: (1, 19)</small><table border=\"1\" class=\"dataframe\"><thead><tr><th>name</th><th>email</th><th>time_zone</th><th>color</th><th>avatar_url</th><th>billed</th><th>role</th><th>description</th><th>invitation_sent</th><th>job_title</th><th>teams</th><th>contact_methods</th><th>notification_rules</th><th>coordinated_incidents</th><th>id</th><th>type</th><th>summary</th><th>self</th><th>html_url</th></tr><tr><td>str</td><td>str</td><td>str</td><td>str</td><td>str</td><td>bool</td><td>str</td><td>null</td><td>bool</td><td>null</td><td>list[struct[5]]</td><td>list[struct[5]]</td><td>list[struct[5]]</td><td>list[null]</td><td>str</td><td>str</td><td>str</td><td>str</td><td>str</td></tr></thead><tbody><tr><td>&quot;Andriyan Nikol…</td><td>&quot;andriyan.nikol…</td><td>&quot;America/Los_An…</td><td>&quot;chocolate&quot;</td><td>&quot;https://secure…</td><td>true</td><td>&quot;limited_user&quot;</td><td>null</td><td>true</td><td>null</td><td>[{&quot;PGVXG6U&quot;,&quot;team_reference&quot;,&quot;Space Cosmonauts&quot;,&quot;https://api.pagerduty.com/teams/PGVXG6U&quot;,&quot;https://pdt-apidocs.pagerduty.com/teams/PGVXG6U&quot;}]</td><td>[{&quot;PBYXCWL&quot;,&quot;email_contact_method_reference&quot;,&quot;Default&quot;,&quot;https://api.pagerduty.com/users/PIQHXK2/contact_methods/PBYXCWL&quot;,null}, {&quot;PAIL03R&quot;,&quot;phone_contact_method_reference&quot;,&quot;Work&quot;,&quot;https://api.pagerduty.com/users/PIQHXK2/contact_methods/PAIL03R&quot;,null}, … {&quot;PTAOLBB&quot;,&quot;sms_contact_method_reference&quot;,&quot;Mobile&quot;,&quot;https://api.pagerduty.com/users/PIQHXK2/contact_methods/PTAOLBB&quot;,null}]</td><td>[{&quot;PY24XV5&quot;,&quot;assignment_notification_rule_reference&quot;,&quot;0 minutes: channel PBYXCWL&quot;,&quot;https://api.pagerduty.com/users/PIQHXK2/notification_rules/PY24XV5&quot;,null}, {&quot;PBBSY7V&quot;,&quot;assignment_notification_rule_reference&quot;,&quot;0 minutes: channel PBYXCWL&quot;,&quot;https://api.pagerduty.com/users/PIQHXK2/notification_rules/PBBSY7V&quot;,null}, … {&quot;PJ6PIGN&quot;,&quot;assignment_notification_rule_reference&quot;,&quot;0 minutes: channel PTAOLBB&quot;,&quot;https://api.pagerduty.com/users/PIQHXK2/notification_rules/PJ6PIGN&quot;,null}]</td><td>[]</td><td>&quot;PIQHXK2&quot;</td><td>&quot;user&quot;</td><td>&quot;Andriyan Nikol…</td><td>&quot;https://api.pa…</td><td>&quot;https://pdt-ap…</td></tr></tbody></table></div>"
      ],
      "text/plain": [
       "shape: (1, 19)\n",
       "┌────────────┬────────────┬────────────┬───────────┬───┬──────┬────────────┬───────────┬───────────┐\n",
       "│ name       ┆ email      ┆ time_zone  ┆ color     ┆ … ┆ type ┆ summary    ┆ self      ┆ html_url  │\n",
       "│ ---        ┆ ---        ┆ ---        ┆ ---       ┆   ┆ ---  ┆ ---        ┆ ---       ┆ ---       │\n",
       "│ str        ┆ str        ┆ str        ┆ str       ┆   ┆ str  ┆ str        ┆ str       ┆ str       │\n",
       "╞════════════╪════════════╪════════════╪═══════════╪═══╪══════╪════════════╪═══════════╪═══════════╡\n",
       "│ Andriyan   ┆ andriyan.n ┆ America/Lo ┆ chocolate ┆ … ┆ user ┆ Andriyan   ┆ https://a ┆ https://p │\n",
       "│ Nikolayev  ┆ ikolayev@u ┆ s_Angeles  ┆           ┆   ┆      ┆ Nikolayev  ┆ pi.pagerd ┆ dt-apidoc │\n",
       "│            ┆ ssr.exampl ┆            ┆           ┆   ┆      ┆            ┆ uty.com/u ┆ s.pagerdu │\n",
       "│            ┆ e          ┆            ┆           ┆   ┆      ┆            ┆ sers/…    ┆ ty.co…    │\n",
       "└────────────┴────────────┴────────────┴───────────┴───┴──────┴────────────┴───────────┴───────────┘"
      ]
     },
     "execution_count": 14,
     "metadata": {},
     "output_type": "execute_result"
    }
   ],
   "source": [
    "users_df.sample(1)"
   ]
  },
  {
   "cell_type": "code",
   "execution_count": null,
   "id": "6243e2d3-e740-4095-81a7-9d53d2505712",
   "metadata": {},
   "outputs": [],
   "source": [
    "licenses_df.head(2)"
   ]
  },
  {
   "cell_type": "code",
   "execution_count": 11,
   "id": "aee2a1aa-e660-4979-aa65-451caa6ba84f",
   "metadata": {},
   "outputs": [
    {
     "data": {
      "text/html": [
       "<div><style>\n",
       ".dataframe > thead > tr,\n",
       ".dataframe > tbody > tr {\n",
       "  text-align: right;\n",
       "  white-space: pre-wrap;\n",
       "}\n",
       "</style>\n",
       "<small>shape: (3, 3)</small><table border=\"1\" class=\"dataframe\"><thead><tr><th>allocated_at</th><th>license</th><th>user</th></tr><tr><td>str</td><td>struct[9]</td><td>struct[2]</td></tr></thead><tbody><tr><td>&quot;2022-01-20T10:…</td><td>{&quot;&quot;,null,&quot;PE18KUR&quot;,&quot;Digital Operations (Stakeholder)&quot;,&quot;Stakeholder&quot;,null,&quot;Digital Operations (Stakeholder)&quot;,&quot;license&quot;,[&quot;read_only_user&quot;, &quot;read_only_limited_user&quot;]}</td><td>{&quot;P7WUMER&quot;,&quot;user_reference&quot;}</td></tr><tr><td>&quot;2022-01-20T10:…</td><td>{&quot;&quot;,null,&quot;PE18KUR&quot;,&quot;Digital Operations (Stakeholder)&quot;,&quot;Stakeholder&quot;,null,&quot;Digital Operations (Stakeholder)&quot;,&quot;license&quot;,[&quot;read_only_user&quot;, &quot;read_only_limited_user&quot;]}</td><td>{&quot;P3K6M21&quot;,&quot;user_reference&quot;}</td></tr><tr><td>&quot;2022-01-20T10:…</td><td>{&quot;&quot;,null,&quot;PE18KUR&quot;,&quot;Digital Operations (Stakeholder)&quot;,&quot;Stakeholder&quot;,null,&quot;Digital Operations (Stakeholder)&quot;,&quot;license&quot;,[&quot;read_only_user&quot;, &quot;read_only_limited_user&quot;]}</td><td>{&quot;PDEHYI9&quot;,&quot;user_reference&quot;}</td></tr></tbody></table></div>"
      ],
      "text/plain": [
       "shape: (3, 3)\n",
       "┌─────────────────────┬───────────────────────────────────┬──────────────────────────────┐\n",
       "│ allocated_at        ┆ license                           ┆ user                         │\n",
       "│ ---                 ┆ ---                               ┆ ---                          │\n",
       "│ str                 ┆ struct[9]                         ┆ struct[2]                    │\n",
       "╞═════════════════════╪═══════════════════════════════════╪══════════════════════════════╡\n",
       "│ 2022-01-20T10:07:38 ┆ {\"\",null,\"PE18KUR\",\"Digital Oper… ┆ {\"P7WUMER\",\"user_reference\"} │\n",
       "│ 2022-01-20T10:07:38 ┆ {\"\",null,\"PE18KUR\",\"Digital Oper… ┆ {\"P3K6M21\",\"user_reference\"} │\n",
       "│ 2022-01-20T10:07:39 ┆ {\"\",null,\"PE18KUR\",\"Digital Oper… ┆ {\"PDEHYI9\",\"user_reference\"} │\n",
       "└─────────────────────┴───────────────────────────────────┴──────────────────────────────┘"
      ]
     },
     "execution_count": 11,
     "metadata": {},
     "output_type": "execute_result"
    }
   ],
   "source": [
    "lic_allocs_df.tail(3)"
   ]
  },
  {
   "cell_type": "code",
   "execution_count": 12,
   "id": "677e8afe-b6d2-430c-8ba3-75510dddb3d9",
   "metadata": {},
   "outputs": [
    {
     "name": "stdout",
     "output_type": "stream",
     "text": [
      "shape: (48, 1)\n",
      "┌───────────────────────────────────┐\n",
      "│ license                           │\n",
      "│ ---                               │\n",
      "│ struct[9]                         │\n",
      "╞═══════════════════════════════════╡\n",
      "│ {\"\",null,\"PHAWL6E\",\"Digital Oper… │\n",
      "│ {\"\",null,\"PHAWL6E\",\"Digital Oper… │\n",
      "│ {\"\",null,\"PHAWL6E\",\"Digital Oper… │\n",
      "│ {\"\",null,\"PHAWL6E\",\"Digital Oper… │\n",
      "│ …                                 │\n",
      "│ {\"\",null,\"PE18KUR\",\"Digital Oper… │\n",
      "│ {\"\",null,\"PE18KUR\",\"Digital Oper… │\n",
      "│ {\"\",null,\"PE18KUR\",\"Digital Oper… │\n",
      "│ {\"\",null,\"PE18KUR\",\"Digital Oper… │\n",
      "└───────────────────────────────────┘\n"
     ]
    }
   ],
   "source": [
    "print(lic_allocs_df.select(\"license\"))"
   ]
  },
  {
   "cell_type": "code",
   "execution_count": 45,
   "id": "8be6da72-c580-4c68-af37-e46d48617e7b",
   "metadata": {},
   "outputs": [
    {
     "name": "stdout",
     "output_type": "stream",
     "text": [
      "shape: (48, 1)\n",
      "┌──────────────────────────────┐\n",
      "│ user                         │\n",
      "│ ---                          │\n",
      "│ struct[2]                    │\n",
      "╞══════════════════════════════╡\n",
      "│ {\"PPC00ZX\",\"user_reference\"} │\n",
      "│ {\"PCA13N7\",\"user_reference\"} │\n",
      "│ {\"PVRS1IU\",\"user_reference\"} │\n",
      "│ {\"PRF4164\",\"user_reference\"} │\n",
      "│ …                            │\n",
      "│ {\"PZ0D2XH\",\"user_reference\"} │\n",
      "│ {\"P7WUMER\",\"user_reference\"} │\n",
      "│ {\"P3K6M21\",\"user_reference\"} │\n",
      "│ {\"PDEHYI9\",\"user_reference\"} │\n",
      "└──────────────────────────────┘\n"
     ]
    }
   ],
   "source": [
    "print(lic_allocs_df.select(\"user\"))"
   ]
  },
  {
   "cell_type": "markdown",
   "id": "a21023ed-32fe-45c6-8649-a893e15b1cf1",
   "metadata": {},
   "source": [
    "### Explode, Implode, Flatten, other...?"
   ]
  },
  {
   "cell_type": "code",
   "execution_count": 66,
   "id": "3bee6673-471a-4254-aa8b-2e6d55077dcd",
   "metadata": {},
   "outputs": [
    {
     "data": {
      "text/plain": [
       "{'user': shape: (48,)\n",
       " Series: 'user' [struct[2]]\n",
       " [\n",
       " \t{\"PPC00ZX\",\"user_reference\"}\n",
       " \t{\"PCA13N7\",\"user_reference\"}\n",
       " \t{\"PVRS1IU\",\"user_reference\"}\n",
       " \t{\"PRF4164\",\"user_reference\"}\n",
       " \t{\"PO5G0TE\",\"user_reference\"}\n",
       " \t{\"PRJ4208\",\"user_reference\"}\n",
       " \t{\"PVTOBQ4\",\"user_reference\"}\n",
       " \t{\"PRH0AAE\",\"user_reference\"}\n",
       " \t{\"PO7CZLR\",\"user_reference\"}\n",
       " \t{\"P0PFXHO\",\"user_reference\"}\n",
       " \t{\"P247ZMF\",\"user_reference\"}\n",
       " \t{\"PL0TA9M\",\"user_reference\"}\n",
       " \t…\n",
       " \t{\"PWHSPDK\",\"user_reference\"}\n",
       " \t{\"PT84P1X\",\"user_reference\"}\n",
       " \t{\"PPYGOP7\",\"user_reference\"}\n",
       " \t{\"P8MVNZH\",\"user_reference\"}\n",
       " \t{\"PJ29Q1C\",\"user_reference\"}\n",
       " \t{\"PFSLPPP\",\"user_reference\"}\n",
       " \t{\"PBGAOZM\",\"user_reference\"}\n",
       " \t{\"PY7PNKZ\",\"user_reference\"}\n",
       " \t{\"PPF7HYE\",\"user_reference\"}\n",
       " \t{\"PZ0D2XH\",\"user_reference\"}\n",
       " \t{\"P7WUMER\",\"user_reference\"}\n",
       " \t{\"P3K6M21\",\"user_reference\"}\n",
       " \t{\"PDEHYI9\",\"user_reference\"}\n",
       " ]}"
      ]
     },
     "execution_count": 66,
     "metadata": {},
     "output_type": "execute_result"
    }
   ],
   "source": [
    "lic_allocs_df.select(pl.col(\"user\")).to_dict()"
   ]
  },
  {
   "cell_type": "markdown",
   "id": "949c74db-9594-42c5-94f1-e57b3ac753f6",
   "metadata": {},
   "source": [
    "## ... What comes Next? :)"
   ]
  },
  {
   "cell_type": "code",
   "execution_count": null,
   "id": "9b254ad2-5c92-406e-b2df-f63665fa6ff2",
   "metadata": {},
   "outputs": [],
   "source": []
  }
 ],
 "metadata": {
  "kernelspec": {
   "display_name": "Python 3 (ipykernel)",
   "language": "python",
   "name": "python3"
  },
  "language_info": {
   "codemirror_mode": {
    "name": "ipython",
    "version": 3
   },
   "file_extension": ".py",
   "mimetype": "text/x-python",
   "name": "python",
   "nbconvert_exporter": "python",
   "pygments_lexer": "ipython3",
   "version": "3.12.1"
  }
 },
 "nbformat": 4,
 "nbformat_minor": 5
}
