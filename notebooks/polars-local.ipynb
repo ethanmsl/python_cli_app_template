{
 "cells": [
  {
   "cell_type": "markdown",
   "id": "b12e7eeb",
   "metadata": {},
   "source": [
    " # Quick Polars Local Test."
   ]
  },
  {
   "cell_type": "code",
   "execution_count": 3,
   "id": "8aa73999",
   "metadata": {
    "lines_to_next_cell": 2
   },
   "outputs": [],
   "source": [
    "import numpy as np\n",
    "import polars as pl"
   ]
  },
  {
   "cell_type": "code",
   "execution_count": 4,
   "id": "b2c2db77",
   "metadata": {},
   "outputs": [],
   "source": [
    "# println!(\"hi there, from a rust cell\");"
   ]
  },
  {
   "cell_type": "markdown",
   "id": "baea21d0",
   "metadata": {},
   "source": [
    "# Read Data (classic or planned / \"eager\" or \"lazy\")"
   ]
  },
  {
   "cell_type": "markdown",
   "id": "72bc3c34",
   "metadata": {},
   "source": [
    "### Classic Loading (\"eager\")\n",
    "`read_...` gives a command to immediately read a file and produce data based on what was read"
   ]
  },
  {
   "cell_type": "code",
   "execution_count": 5,
   "id": "f06301d0",
   "metadata": {},
   "outputs": [
    {
     "name": "stdout",
     "output_type": "stream",
     "text": [
      "shape: (150, 5)\n",
      "┌──────────────┬─────────────┬──────────────┬─────────────┬───────────┐\n",
      "│ sepal.length ┆ sepal.width ┆ petal.length ┆ petal.width ┆ variety   │\n",
      "│ ---          ┆ ---         ┆ ---          ┆ ---         ┆ ---       │\n",
      "│ f64          ┆ f64         ┆ f64          ┆ f64         ┆ str       │\n",
      "╞══════════════╪═════════════╪══════════════╪═════════════╪═══════════╡\n",
      "│ 5.1          ┆ 3.5         ┆ 1.4          ┆ 0.2         ┆ Setosa    │\n",
      "│ 4.9          ┆ 3.0         ┆ 1.4          ┆ 0.2         ┆ Setosa    │\n",
      "│ 4.7          ┆ 3.2         ┆ 1.3          ┆ 0.2         ┆ Setosa    │\n",
      "│ 4.6          ┆ 3.1         ┆ 1.5          ┆ 0.2         ┆ Setosa    │\n",
      "│ …            ┆ …           ┆ …            ┆ …           ┆ …         │\n",
      "│ 6.3          ┆ 2.5         ┆ 5.0          ┆ 1.9         ┆ Virginica │\n",
      "│ 6.5          ┆ 3.0         ┆ 5.2          ┆ 2.0         ┆ Virginica │\n",
      "│ 6.2          ┆ 3.4         ┆ 5.4          ┆ 2.3         ┆ Virginica │\n",
      "│ 5.9          ┆ 3.0         ┆ 5.1          ┆ 1.8         ┆ Virginica │\n",
      "└──────────────┴─────────────┴──────────────┴─────────────┴───────────┘\n"
     ]
    }
   ],
   "source": [
    "# \"eager\" read\n",
    "iris_data = pl.read_csv(\"../data/iris.csv\")\n",
    "print(iris_data)"
   ]
  },
  {
   "cell_type": "markdown",
   "id": "9c34690a",
   "metadata": {},
   "source": [
    "### Planned Loading (\"lazy\")\n",
    "`scan_...` indicates requirements (e.g. data operations should be performed on data from this file)\n",
    "when classic data is eventually requested all the requirements (e.g. data from this file, selecting these rows, filtering on those values, etc.) will be processed and a concrete plan executed.  Waiting until all the requirements are specified means the actual plan can be more efficient -- e.g. not reading from columns or rows that won't even be used."
   ]
  },
  {
   "cell_type": "code",
   "execution_count": 6,
   "id": "7f7d3bb7",
   "metadata": {},
   "outputs": [
    {
     "name": "stdout",
     "output_type": "stream",
     "text": [
      "naive plan: (run LazyFrame.explain(optimized=True) to see the optimized plan)\n",
      "\n",
      "\n",
      "  Csv SCAN ../data/iris.csv\n",
      "  PROJECT */5 COLUMNS\n"
     ]
    }
   ],
   "source": [
    "# \"lazy\" loading: \n",
    "# (the plan is used when data itself is requested)\n",
    "iris_data = pl.scan_csv(\"../data/iris.csv\")\n",
    "print(iris_data)"
   ]
  },
  {
   "cell_type": "markdown",
   "id": "10843f64",
   "metadata": {},
   "source": [
    "# Print vs Engine-Render"
   ]
  },
  {
   "cell_type": "code",
   "execution_count": 7,
   "id": "89eaaa10",
   "metadata": {},
   "outputs": [
    {
     "name": "stdout",
     "output_type": "stream",
     "text": [
      "shape: (150, 5)\n",
      "┌──────────────┬─────────────┬──────────────┬─────────────┬───────────┐\n",
      "│ sepal.length ┆ sepal.width ┆ petal.length ┆ petal.width ┆ variety   │\n",
      "│ ---          ┆ ---         ┆ ---          ┆ ---         ┆ ---       │\n",
      "│ f64          ┆ f64         ┆ f64          ┆ f64         ┆ str       │\n",
      "╞══════════════╪═════════════╪══════════════╪═════════════╪═══════════╡\n",
      "│ 5.1          ┆ 3.5         ┆ 1.4          ┆ 0.2         ┆ Setosa    │\n",
      "│ 4.9          ┆ 3.0         ┆ 1.4          ┆ 0.2         ┆ Setosa    │\n",
      "│ 4.7          ┆ 3.2         ┆ 1.3          ┆ 0.2         ┆ Setosa    │\n",
      "│ 4.6          ┆ 3.1         ┆ 1.5          ┆ 0.2         ┆ Setosa    │\n",
      "│ …            ┆ …           ┆ …            ┆ …           ┆ …         │\n",
      "│ 6.3          ┆ 2.5         ┆ 5.0          ┆ 1.9         ┆ Virginica │\n",
      "│ 6.5          ┆ 3.0         ┆ 5.2          ┆ 2.0         ┆ Virginica │\n",
      "│ 6.2          ┆ 3.4         ┆ 5.4          ┆ 2.3         ┆ Virginica │\n",
      "│ 5.9          ┆ 3.0         ┆ 5.1          ┆ 1.8         ┆ Virginica │\n",
      "└──────────────┴─────────────┴──────────────┴─────────────┴───────────┘\n"
     ]
    },
    {
     "data": {
      "text/html": [
       "<div><style>\n",
       ".dataframe > thead > tr,\n",
       ".dataframe > tbody > tr {\n",
       "  text-align: right;\n",
       "  white-space: pre-wrap;\n",
       "}\n",
       "</style>\n",
       "<small>shape: (150, 5)</small><table border=\"1\" class=\"dataframe\"><thead><tr><th>sepal.length</th><th>sepal.width</th><th>petal.length</th><th>petal.width</th><th>variety</th></tr><tr><td>f64</td><td>f64</td><td>f64</td><td>f64</td><td>str</td></tr></thead><tbody><tr><td>5.1</td><td>3.5</td><td>1.4</td><td>0.2</td><td>&quot;Setosa&quot;</td></tr><tr><td>4.9</td><td>3.0</td><td>1.4</td><td>0.2</td><td>&quot;Setosa&quot;</td></tr><tr><td>4.7</td><td>3.2</td><td>1.3</td><td>0.2</td><td>&quot;Setosa&quot;</td></tr><tr><td>4.6</td><td>3.1</td><td>1.5</td><td>0.2</td><td>&quot;Setosa&quot;</td></tr><tr><td>5.0</td><td>3.6</td><td>1.4</td><td>0.2</td><td>&quot;Setosa&quot;</td></tr><tr><td>5.4</td><td>3.9</td><td>1.7</td><td>0.4</td><td>&quot;Setosa&quot;</td></tr><tr><td>4.6</td><td>3.4</td><td>1.4</td><td>0.3</td><td>&quot;Setosa&quot;</td></tr><tr><td>5.0</td><td>3.4</td><td>1.5</td><td>0.2</td><td>&quot;Setosa&quot;</td></tr><tr><td>4.4</td><td>2.9</td><td>1.4</td><td>0.2</td><td>&quot;Setosa&quot;</td></tr><tr><td>4.9</td><td>3.1</td><td>1.5</td><td>0.1</td><td>&quot;Setosa&quot;</td></tr><tr><td>5.4</td><td>3.7</td><td>1.5</td><td>0.2</td><td>&quot;Setosa&quot;</td></tr><tr><td>4.8</td><td>3.4</td><td>1.6</td><td>0.2</td><td>&quot;Setosa&quot;</td></tr><tr><td>&hellip;</td><td>&hellip;</td><td>&hellip;</td><td>&hellip;</td><td>&hellip;</td></tr><tr><td>6.0</td><td>3.0</td><td>4.8</td><td>1.8</td><td>&quot;Virginica&quot;</td></tr><tr><td>6.9</td><td>3.1</td><td>5.4</td><td>2.1</td><td>&quot;Virginica&quot;</td></tr><tr><td>6.7</td><td>3.1</td><td>5.6</td><td>2.4</td><td>&quot;Virginica&quot;</td></tr><tr><td>6.9</td><td>3.1</td><td>5.1</td><td>2.3</td><td>&quot;Virginica&quot;</td></tr><tr><td>5.8</td><td>2.7</td><td>5.1</td><td>1.9</td><td>&quot;Virginica&quot;</td></tr><tr><td>6.8</td><td>3.2</td><td>5.9</td><td>2.3</td><td>&quot;Virginica&quot;</td></tr><tr><td>6.7</td><td>3.3</td><td>5.7</td><td>2.5</td><td>&quot;Virginica&quot;</td></tr><tr><td>6.7</td><td>3.0</td><td>5.2</td><td>2.3</td><td>&quot;Virginica&quot;</td></tr><tr><td>6.3</td><td>2.5</td><td>5.0</td><td>1.9</td><td>&quot;Virginica&quot;</td></tr><tr><td>6.5</td><td>3.0</td><td>5.2</td><td>2.0</td><td>&quot;Virginica&quot;</td></tr><tr><td>6.2</td><td>3.4</td><td>5.4</td><td>2.3</td><td>&quot;Virginica&quot;</td></tr><tr><td>5.9</td><td>3.0</td><td>5.1</td><td>1.8</td><td>&quot;Virginica&quot;</td></tr></tbody></table></div>"
      ],
      "text/plain": [
       "shape: (150, 5)\n",
       "┌──────────────┬─────────────┬──────────────┬─────────────┬───────────┐\n",
       "│ sepal.length ┆ sepal.width ┆ petal.length ┆ petal.width ┆ variety   │\n",
       "│ ---          ┆ ---         ┆ ---          ┆ ---         ┆ ---       │\n",
       "│ f64          ┆ f64         ┆ f64          ┆ f64         ┆ str       │\n",
       "╞══════════════╪═════════════╪══════════════╪═════════════╪═══════════╡\n",
       "│ 5.1          ┆ 3.5         ┆ 1.4          ┆ 0.2         ┆ Setosa    │\n",
       "│ 4.9          ┆ 3.0         ┆ 1.4          ┆ 0.2         ┆ Setosa    │\n",
       "│ 4.7          ┆ 3.2         ┆ 1.3          ┆ 0.2         ┆ Setosa    │\n",
       "│ 4.6          ┆ 3.1         ┆ 1.5          ┆ 0.2         ┆ Setosa    │\n",
       "│ …            ┆ …           ┆ …            ┆ …           ┆ …         │\n",
       "│ 6.3          ┆ 2.5         ┆ 5.0          ┆ 1.9         ┆ Virginica │\n",
       "│ 6.5          ┆ 3.0         ┆ 5.2          ┆ 2.0         ┆ Virginica │\n",
       "│ 6.2          ┆ 3.4         ┆ 5.4          ┆ 2.3         ┆ Virginica │\n",
       "│ 5.9          ┆ 3.0         ┆ 5.1          ┆ 1.8         ┆ Virginica │\n",
       "└──────────────┴─────────────┴──────────────┴─────────────┴───────────┘"
      ]
     },
     "execution_count": 7,
     "metadata": {},
     "output_type": "execute_result"
    }
   ],
   "source": [
    "iris_data = pl.read_csv(\"../data/iris.csv\")\n",
    "print(iris_data)  # prints out terminal style rendering\n",
    "iris_data  # uses engine's chosen rendering"
   ]
  },
  {
   "cell_type": "markdown",
   "id": "3d68eeeb",
   "metadata": {},
   "source": [
    "# Combining DataFrames"
   ]
  },
  {
   "cell_type": "markdown",
   "id": "2acdf220",
   "metadata": {},
   "source": [
    "### Joining\n",
    "(Left, Right, Inner, Outer)"
   ]
  },
  {
   "cell_type": "markdown",
   "id": "18af7187",
   "metadata": {},
   "source": [
    "Joining two DataFrames on a specified column."
   ]
  },
  {
   "cell_type": "code",
   "execution_count": 8,
   "id": "26cf006c-5ed9-452d-a073-b610c37fa80f",
   "metadata": {
    "lines_to_next_cell": 2
   },
   "outputs": [
    {
     "name": "stdout",
     "output_type": "stream",
     "text": [
      "shape: (8, 4)\n",
      "┌─────┬──────────┬───────┬─────┐\n",
      "│ a   ┆ b        ┆ d     ┆ y   │\n",
      "│ --- ┆ ---      ┆ ---   ┆ --- │\n",
      "│ i64 ┆ f64      ┆ f64   ┆ str │\n",
      "╞═════╪══════════╪═══════╪═════╡\n",
      "│ 0   ┆ 0.326972 ┆ 1.0   ┆ A   │\n",
      "│ 1   ┆ 0.987277 ┆ 2.0   ┆ A   │\n",
      "│ 2   ┆ 0.318711 ┆ NaN   ┆ A   │\n",
      "│ 3   ┆ 0.788549 ┆ NaN   ┆ B   │\n",
      "│ 4   ┆ 0.869897 ┆ 0.0   ┆ B   │\n",
      "│ 5   ┆ 0.391085 ┆ -5.0  ┆ C   │\n",
      "│ 6   ┆ 0.437882 ┆ -42.0 ┆ X   │\n",
      "│ 7   ┆ 0.372749 ┆ null  ┆ X   │\n",
      "└─────┴──────────┴───────┴─────┘\n"
     ]
    }
   ],
   "source": [
    "rng = np.random.default_rng(8)  # generator object\n",
    "\n",
    "df1 = pl.DataFrame(\n",
    "    {\n",
    "        \"a\": np.arange(0, 8),\n",
    "        \"b\": rng.random(8),\n",
    "        \"d\": [1, 2.0, np.NaN, np.NaN, 0, -5, -42, None],\n",
    "    }\n",
    ")\n",
    "\n",
    "df2 = pl.DataFrame(\n",
    "    {\n",
    "        \"x\": np.arange(0, 8),\n",
    "        \"y\": [\"A\", \"A\", \"A\", \"B\", \"B\", \"C\", \"X\", \"X\"],\n",
    "    }\n",
    ")\n",
    "\n",
    "# Join the dataframes\n",
    "joined = df1.join(df2, left_on=\"a\", right_on=\"x\")\n",
    "print(joined)"
   ]
  },
  {
   "cell_type": "markdown",
   "id": "809cb26b",
   "metadata": {},
   "source": [
    "### Concatination\n",
    "(Horizontal or vertical)"
   ]
  },
  {
   "cell_type": "code",
   "execution_count": 9,
   "id": "ae62b071",
   "metadata": {},
   "outputs": [
    {
     "name": "stdout",
     "output_type": "stream",
     "text": [
      "shape: (8, 5)\n",
      "┌─────┬──────────┬───────┬─────┬─────┐\n",
      "│ a   ┆ b        ┆ d     ┆ x   ┆ y   │\n",
      "│ --- ┆ ---      ┆ ---   ┆ --- ┆ --- │\n",
      "│ i64 ┆ f64      ┆ f64   ┆ i64 ┆ str │\n",
      "╞═════╪══════════╪═══════╪═════╪═════╡\n",
      "│ 0   ┆ 0.326972 ┆ 1.0   ┆ 0   ┆ A   │\n",
      "│ 1   ┆ 0.987277 ┆ 2.0   ┆ 1   ┆ A   │\n",
      "│ 2   ┆ 0.318711 ┆ NaN   ┆ 2   ┆ A   │\n",
      "│ 3   ┆ 0.788549 ┆ NaN   ┆ 3   ┆ B   │\n",
      "│ 4   ┆ 0.869897 ┆ 0.0   ┆ 4   ┆ B   │\n",
      "│ 5   ┆ 0.391085 ┆ -5.0  ┆ 5   ┆ C   │\n",
      "│ 6   ┆ 0.437882 ┆ -42.0 ┆ 6   ┆ X   │\n",
      "│ 7   ┆ 0.372749 ┆ null  ┆ 7   ┆ X   │\n",
      "└─────┴──────────┴───────┴─────┴─────┘\n"
     ]
    }
   ],
   "source": [
    "stacked = df1.hstack(df2)\n",
    "print(stacked)"
   ]
  },
  {
   "cell_type": "markdown",
   "id": "869e1d26",
   "metadata": {},
   "source": [
    "# Various"
   ]
  },
  {
   "cell_type": "code",
   "execution_count": 10,
   "id": "fc359528",
   "metadata": {},
   "outputs": [
    {
     "name": "stdout",
     "output_type": "stream",
     "text": [
      "<class 'polars.dataframe.frame.DataFrame'>\n",
      "<class 'polars.dataframe.frame.DataFrame'>\n"
     ]
    }
   ],
   "source": [
    "iris_type = type(iris_data)\n",
    "df_type = type(df1)\n",
    "\n",
    "print(iris_type)\n",
    "print(df_type)"
   ]
  },
  {
   "cell_type": "markdown",
   "id": "1d5fb385",
   "metadata": {},
   "source": [
    "# Quick Views\n",
    "(Head, Tail, Sample, Describe)"
   ]
  },
  {
   "cell_type": "markdown",
   "id": "ef51f5df",
   "metadata": {},
   "source": [
    "### Some Data to Look at"
   ]
  },
  {
   "cell_type": "markdown",
   "id": "c19d418e",
   "metadata": {},
   "source": [
    "Creating datetime objects with builtin library. (note that no location is provided by default.)"
   ]
  },
  {
   "cell_type": "code",
   "execution_count": 11,
   "id": "e3a133e8",
   "metadata": {},
   "outputs": [
    {
     "name": "stdout",
     "output_type": "stream",
     "text": [
      "shape: (5, 4)\n",
      "┌─────────┬─────────────────────┬───────┬───────┐\n",
      "│ integer ┆ date                ┆ float ┆ words │\n",
      "│ ---     ┆ ---                 ┆ ---   ┆ ---   │\n",
      "│ i64     ┆ datetime[μs]        ┆ f64   ┆ str   │\n",
      "╞═════════╪═════════════════════╪═══════╪═══════╡\n",
      "│ 1       ┆ 2022-01-01 00:00:00 ┆ 4.0   ┆ alpha │\n",
      "│ 2       ┆ 2022-01-02 00:00:00 ┆ 5.0   ┆ beta  │\n",
      "│ 3       ┆ 2022-01-03 00:00:00 ┆ 6.0   ┆ gaga  │\n",
      "│ 4       ┆ 2022-01-04 00:00:00 ┆ 7.0   ┆ delta │\n",
      "│ 5       ┆ 2022-01-05 00:00:00 ┆ 8.0   ┆ eps   │\n",
      "└─────────┴─────────────────────┴───────┴───────┘\n"
     ]
    }
   ],
   "source": [
    "import datetime\n",
    "\n",
    "dfd = pl.DataFrame(\n",
    "    {\n",
    "        \"integer\": [1, 2, 3, 4, 5],\n",
    "        \"date\": [\n",
    "            datetime.datetime(2022, 1, 1),\n",
    "            datetime.datetime(2022, 1, 2),\n",
    "            datetime.datetime(2022, 1, 3),\n",
    "            datetime.datetime(2022, 1, 4),\n",
    "            datetime.datetime(2022, 1, 5),\n",
    "        ],\n",
    "        \"float\": [4.0, 5.0, 6.0, 7.0, 8.0],\n",
    "        \"words\": [\"alpha\", \"beta\", \"gaga\", \"delta\", \"eps\"],\n",
    "    },\n",
    ")\n",
    "\n",
    "print(dfd)"
   ]
  },
  {
   "cell_type": "markdown",
   "id": "b3d1847e",
   "metadata": {},
   "source": [
    "Creating a datetime with the arrow module.  Note that we must exclusively convert to a datetime object.  Also note that a 'default' timezone is provided."
   ]
  },
  {
   "cell_type": "code",
   "execution_count": 12,
   "id": "b615aae5",
   "metadata": {},
   "outputs": [
    {
     "name": "stdout",
     "output_type": "stream",
     "text": [
      "shape: (5, 4)\n",
      "┌─────────┬─────────────────────────┬───────┬───────┐\n",
      "│ integer ┆ date                    ┆ float ┆ words │\n",
      "│ ---     ┆ ---                     ┆ ---   ┆ ---   │\n",
      "│ i64     ┆ datetime[μs, UTC]       ┆ f64   ┆ str   │\n",
      "╞═════════╪═════════════════════════╪═══════╪═══════╡\n",
      "│ 1       ┆ 2022-01-01 00:00:00 UTC ┆ 4.0   ┆ alpha │\n",
      "│ 2       ┆ 2022-01-02 00:00:00 UTC ┆ 5.0   ┆ beta  │\n",
      "│ 3       ┆ 2022-01-03 00:00:00 UTC ┆ 6.0   ┆ gaga  │\n",
      "│ 4       ┆ 2022-01-04 00:00:00 UTC ┆ 7.0   ┆ delta │\n",
      "│ 5       ┆ 2022-01-05 00:00:00 UTC ┆ 8.0   ┆ eps   │\n",
      "└─────────┴─────────────────────────┴───────┴───────┘\n"
     ]
    },
    {
     "name": "stderr",
     "output_type": "stream",
     "text": [
      "/var/folders/77/skc_0fn91yld6jpgpm315xy40000gq/T/ipykernel_37827/570647299.py:3: TimeZoneAwareConstructorWarning: Constructing a Series with time-zone-aware datetimes results in a Series with UTC time zone. To silence this warning, you can filter warnings of class TimeZoneAwareConstructorWarning, or set 'UTC' as the time zone of your datatype.\n",
      "  dfd = pl.DataFrame(\n"
     ]
    }
   ],
   "source": [
    "import arrow\n",
    "\n",
    "dfd = pl.DataFrame(\n",
    "    {\n",
    "        \"integer\": [1, 2, 3, 4, 5],\n",
    "        \"date\": [\n",
    "            arrow.get(\"2022-01-01\").datetime,\n",
    "            arrow.get(\"2022-01-02\").datetime,\n",
    "            arrow.get(\"2022-01-03\").datetime,\n",
    "            arrow.get(\"2022-01-04\").datetime,\n",
    "            arrow.get(\"2022-01-05\").datetime,\n",
    "        ],\n",
    "        \"float\": [4.0, 5.0, 6.0, 7.0, 8.0],\n",
    "        \"words\": [\"alpha\", \"beta\", \"gaga\", \"delta\", \"eps\"],\n",
    "    },\n",
    ")\n",
    "\n",
    "print(dfd)"
   ]
  },
  {
   "cell_type": "code",
   "execution_count": 13,
   "id": "87eef770",
   "metadata": {},
   "outputs": [
    {
     "name": "stdout",
     "output_type": "stream",
     "text": [
      "shape: (2, 4)\n",
      "┌─────────┬─────────────────────────┬───────┬───────┐\n",
      "│ integer ┆ date                    ┆ float ┆ words │\n",
      "│ ---     ┆ ---                     ┆ ---   ┆ ---   │\n",
      "│ i64     ┆ datetime[μs, UTC]       ┆ f64   ┆ str   │\n",
      "╞═════════╪═════════════════════════╪═══════╪═══════╡\n",
      "│ 1       ┆ 2022-01-01 00:00:00 UTC ┆ 4.0   ┆ alpha │\n",
      "│ 2       ┆ 2022-01-02 00:00:00 UTC ┆ 5.0   ┆ beta  │\n",
      "└─────────┴─────────────────────────┴───────┴───────┘\n",
      "shape: (2, 4)\n",
      "┌─────────┬─────────────────────────┬───────┬───────┐\n",
      "│ integer ┆ date                    ┆ float ┆ words │\n",
      "│ ---     ┆ ---                     ┆ ---   ┆ ---   │\n",
      "│ i64     ┆ datetime[μs, UTC]       ┆ f64   ┆ str   │\n",
      "╞═════════╪═════════════════════════╪═══════╪═══════╡\n",
      "│ 4       ┆ 2022-01-04 00:00:00 UTC ┆ 7.0   ┆ delta │\n",
      "│ 5       ┆ 2022-01-05 00:00:00 UTC ┆ 8.0   ┆ eps   │\n",
      "└─────────┴─────────────────────────┴───────┴───────┘\n",
      "shape: (2, 4)\n",
      "┌─────────┬─────────────────────────┬───────┬───────┐\n",
      "│ integer ┆ date                    ┆ float ┆ words │\n",
      "│ ---     ┆ ---                     ┆ ---   ┆ ---   │\n",
      "│ i64     ┆ datetime[μs, UTC]       ┆ f64   ┆ str   │\n",
      "╞═════════╪═════════════════════════╪═══════╪═══════╡\n",
      "│ 2       ┆ 2022-01-02 00:00:00 UTC ┆ 5.0   ┆ beta  │\n",
      "│ 4       ┆ 2022-01-04 00:00:00 UTC ┆ 7.0   ┆ delta │\n",
      "└─────────┴─────────────────────────┴───────┴───────┘\n"
     ]
    }
   ],
   "source": [
    "print(dfd.head(2))\n",
    "print(dfd.tail(2))\n",
    "print(dfd.sample(2))"
   ]
  },
  {
   "cell_type": "code",
   "execution_count": 14,
   "id": "bb715efd",
   "metadata": {},
   "outputs": [
    {
     "name": "stdout",
     "output_type": "stream",
     "text": [
      "Rows: 5\n",
      "Columns: 4\n",
      "$ integer               <i64> 1, 2, 3, 4, 5\n",
      "$ date    <datetime[μs, UTC]> 2022-01-01 00:00:00+00:00, 2022-01-02 00:00:00+00:00, 2022-01-03 00:00:00+00:00, 2022-01-04 00:00:00+00:00, 2022-01-05 00:00:00+00:00\n",
      "$ float                 <f64> 4.0, 5.0, 6.0, 7.0, 8.0\n",
      "$ words                 <str> 'alpha', 'beta', 'gaga', 'delta', 'eps'\n",
      "\n",
      "None\n"
     ]
    },
    {
     "data": {
      "text/html": [
       "<div><style>\n",
       ".dataframe > thead > tr,\n",
       ".dataframe > tbody > tr {\n",
       "  text-align: right;\n",
       "  white-space: pre-wrap;\n",
       "}\n",
       "</style>\n",
       "<small>shape: (9, 5)</small><table border=\"1\" class=\"dataframe\"><thead><tr><th>describe</th><th>integer</th><th>date</th><th>float</th><th>words</th></tr><tr><td>str</td><td>f64</td><td>str</td><td>f64</td><td>str</td></tr></thead><tbody><tr><td>&quot;count&quot;</td><td>5.0</td><td>&quot;5&quot;</td><td>5.0</td><td>&quot;5&quot;</td></tr><tr><td>&quot;null_count&quot;</td><td>0.0</td><td>&quot;0&quot;</td><td>0.0</td><td>&quot;0&quot;</td></tr><tr><td>&quot;mean&quot;</td><td>3.0</td><td>null</td><td>6.0</td><td>null</td></tr><tr><td>&quot;std&quot;</td><td>1.581139</td><td>null</td><td>1.581139</td><td>null</td></tr><tr><td>&quot;min&quot;</td><td>1.0</td><td>&quot;2022-01-01 00:…</td><td>4.0</td><td>&quot;alpha&quot;</td></tr><tr><td>&quot;25%&quot;</td><td>2.0</td><td>null</td><td>5.0</td><td>null</td></tr><tr><td>&quot;50%&quot;</td><td>3.0</td><td>null</td><td>6.0</td><td>null</td></tr><tr><td>&quot;75%&quot;</td><td>4.0</td><td>null</td><td>7.0</td><td>null</td></tr><tr><td>&quot;max&quot;</td><td>5.0</td><td>&quot;2022-01-05 00:…</td><td>8.0</td><td>&quot;gaga&quot;</td></tr></tbody></table></div>"
      ],
      "text/plain": [
       "shape: (9, 5)\n",
       "┌────────────┬──────────┬───────────────────────────┬──────────┬───────┐\n",
       "│ describe   ┆ integer  ┆ date                      ┆ float    ┆ words │\n",
       "│ ---        ┆ ---      ┆ ---                       ┆ ---      ┆ ---   │\n",
       "│ str        ┆ f64      ┆ str                       ┆ f64      ┆ str   │\n",
       "╞════════════╪══════════╪═══════════════════════════╪══════════╪═══════╡\n",
       "│ count      ┆ 5.0      ┆ 5                         ┆ 5.0      ┆ 5     │\n",
       "│ null_count ┆ 0.0      ┆ 0                         ┆ 0.0      ┆ 0     │\n",
       "│ mean       ┆ 3.0      ┆ null                      ┆ 6.0      ┆ null  │\n",
       "│ std        ┆ 1.581139 ┆ null                      ┆ 1.581139 ┆ null  │\n",
       "│ min        ┆ 1.0      ┆ 2022-01-01 00:00:00+00:00 ┆ 4.0      ┆ alpha │\n",
       "│ 25%        ┆ 2.0      ┆ null                      ┆ 5.0      ┆ null  │\n",
       "│ 50%        ┆ 3.0      ┆ null                      ┆ 6.0      ┆ null  │\n",
       "│ 75%        ┆ 4.0      ┆ null                      ┆ 7.0      ┆ null  │\n",
       "│ max        ┆ 5.0      ┆ 2022-01-05 00:00:00+00:00 ┆ 8.0      ┆ gaga  │\n",
       "└────────────┴──────────┴───────────────────────────┴──────────┴───────┘"
      ]
     },
     "execution_count": 14,
     "metadata": {},
     "output_type": "execute_result"
    }
   ],
   "source": [
    "print(dfd.glimpse())\n",
    "dfd.describe()"
   ]
  },
  {
   "cell_type": "markdown",
   "id": "0c1bfae7",
   "metadata": {},
   "source": [
    "# Contexts & Expressions"
   ]
  },
  {
   "cell_type": "code",
   "execution_count": 15,
   "id": "c1a4fe49",
   "metadata": {},
   "outputs": [
    {
     "name": "stdout",
     "output_type": "stream",
     "text": [
      "shape: (5, 4)\n",
      "┌──────┬───────┬──────────┬────────┐\n",
      "│ nrs  ┆ names ┆ random   ┆ groups │\n",
      "│ ---  ┆ ---   ┆ ---      ┆ ---    │\n",
      "│ i64  ┆ str   ┆ f64      ┆ str    │\n",
      "╞══════╪═══════╪══════════╪════════╡\n",
      "│ 1    ┆ foo   ┆ 0.805003 ┆ A      │\n",
      "│ 2    ┆ ham   ┆ 0.807941 ┆ A      │\n",
      "│ 3    ┆ spam  ┆ 0.515326 ┆ B      │\n",
      "│ null ┆ egg   ┆ 0.285801 ┆ C      │\n",
      "│ 5    ┆ null  ┆ 0.053931 ┆ B      │\n",
      "└──────┴───────┴──────────┴────────┘\n"
     ]
    }
   ],
   "source": [
    "dfc = pl.DataFrame(\n",
    "    {\n",
    "        \"nrs\": [1, 2, 3, None, 5],\n",
    "        \"names\": [\"foo\", \"ham\", \"spam\", \"egg\", None],\n",
    "        \"random\": np.random.default_rng(5).random(5),\n",
    "        \"groups\": [\"A\", \"A\", \"B\", \"C\", \"B\"],\n",
    "    },\n",
    ")\n",
    "print(dfc)"
   ]
  },
  {
   "cell_type": "markdown",
   "id": "d2afac04",
   "metadata": {},
   "source": [
    "### Select & With_Columns\n",
    "> In the select context the selection applies expressions over columns.\n",
    "> The expressions in this context must produce Seriesthat\n",
    "> that are all the same length or have a length of 1.\n",
    ">\n",
    "> A Series of a length of 1 will be broadcasted to match the height of the DataFrame.\n",
    "> Note that a select may produce new columns that are\n",
    "> aggregations, combinations of expressions, or literals.\n",
    "\n",
    "`Select`: only returns columns specified\n",
    "`With_Columns`: adds specified columns to original"
   ]
  },
  {
   "cell_type": "code",
   "execution_count": 16,
   "id": "1c659c33",
   "metadata": {},
   "outputs": [
    {
     "name": "stdout",
     "output_type": "stream",
     "text": [
      "shape: (5, 5)\n",
      "┌─────┬───────────────┬───────┬────────────┬────────┐\n",
      "│ nrs ┆ same as above ┆ names ┆ first name ┆ 10xnrs │\n",
      "│ --- ┆ ---           ┆ ---   ┆ ---        ┆ ---    │\n",
      "│ i64 ┆ i64           ┆ str   ┆ str        ┆ f64    │\n",
      "╞═════╪═══════════════╪═══════╪════════════╪════════╡\n",
      "│ 11  ┆ 11            ┆ null  ┆ foo        ┆ 27.5   │\n",
      "│ 11  ┆ 11            ┆ egg   ┆ foo        ┆ 27.5   │\n",
      "│ 11  ┆ 11            ┆ foo   ┆ foo        ┆ 27.5   │\n",
      "│ 11  ┆ 11            ┆ ham   ┆ foo        ┆ 27.5   │\n",
      "│ 11  ┆ 11            ┆ spam  ┆ foo        ┆ 27.5   │\n",
      "└─────┴───────────────┴───────┴────────────┴────────┘\n",
      "shape: (5, 7)\n",
      "┌─────┬───────┬──────────┬────────┬───────────────┬────────────┬────────┐\n",
      "│ nrs ┆ names ┆ random   ┆ groups ┆ same as above ┆ first name ┆ 10xnrs │\n",
      "│ --- ┆ ---   ┆ ---      ┆ ---    ┆ ---           ┆ ---        ┆ ---    │\n",
      "│ i64 ┆ str   ┆ f64      ┆ str    ┆ i64           ┆ str        ┆ f64    │\n",
      "╞═════╪═══════╪══════════╪════════╪═══════════════╪════════════╪════════╡\n",
      "│ 11  ┆ null  ┆ 0.805003 ┆ A      ┆ 11            ┆ foo        ┆ 27.5   │\n",
      "│ 11  ┆ egg   ┆ 0.807941 ┆ A      ┆ 11            ┆ foo        ┆ 27.5   │\n",
      "│ 11  ┆ foo   ┆ 0.515326 ┆ B      ┆ 11            ┆ foo        ┆ 27.5   │\n",
      "│ 11  ┆ ham   ┆ 0.285801 ┆ C      ┆ 11            ┆ foo        ┆ 27.5   │\n",
      "│ 11  ┆ spam  ┆ 0.053931 ┆ B      ┆ 11            ┆ foo        ┆ 27.5   │\n",
      "└─────┴───────┴──────────┴────────┴───────────────┴────────────┴────────┘\n"
     ]
    }
   ],
   "source": [
    "out_select = dfc.select(\n",
    "    pl.sum(\"nrs\"),  # note: that it takes original name if not given alias\n",
    "    pl.col(\"nrs\")\n",
    "    .sum()\n",
    "    .alias(\n",
    "        \"same as above\",\n",
    "    ),  # note that the above is a shorthand for this, modulo alias\n",
    "    pl.col(\"names\").sort(),\n",
    "    pl.col(\"names\").head(1).alias(\"first name\"),\n",
    "    (pl.mean(\"nrs\") * 10).alias(\"10xnrs\"),\n",
    ")\n",
    "print(out_select)\n",
    "\n",
    "\n",
    "out_wcol = dfc.with_columns(\n",
    "    pl.sum(\"nrs\"),  # NOTE!: this ovewrites the original!\n",
    "    pl.col(\"nrs\")\n",
    "    .sum()\n",
    "    .alias(\n",
    "        \"same as above\",\n",
    "    ),  # note that the above is a shorthand for this, modulo alias\n",
    "    pl.col(\"names\").sort(),\n",
    "    pl.col(\"names\").head(1).alias(\"first name\"),\n",
    "    (pl.mean(\"nrs\") * 10).alias(\"10xnrs\"),\n",
    ")\n",
    "print(out_wcol)"
   ]
  },
  {
   "cell_type": "markdown",
   "id": "51f5fc56",
   "metadata": {},
   "source": [
    "# GroupBy"
   ]
  },
  {
   "cell_type": "markdown",
   "id": "2b15b3ae",
   "metadata": {},
   "source": [
    "Generating a DataSet to use:"
   ]
  },
  {
   "cell_type": "code",
   "execution_count": 17,
   "id": "55e5431d",
   "metadata": {},
   "outputs": [
    {
     "name": "stdout",
     "output_type": "stream",
     "text": [
      "shape: (9, 5)\n",
      "┌───────┬───────────┬───────┬──────┬─────────┐\n",
      "│ Zone  ┆ School    ┆ Name  ┆ Math ┆ Science │\n",
      "│ ---   ┆ ---       ┆ ---   ┆ ---  ┆ ---     │\n",
      "│ str   ┆ str       ┆ str   ┆ i64  ┆ i64     │\n",
      "╞═══════╪═══════════╪═══════╪══════╪═════════╡\n",
      "│ North ┆ Rushmore  ┆ Jonny ┆ 78   ┆ 80      │\n",
      "│ North ┆ Rushmore  ┆ Mary  ┆ 39   ┆ 45      │\n",
      "│ North ┆ Rushmore  ┆ Jim   ┆ 798  ┆ 80      │\n",
      "│ South ┆ Bayside   ┆ Joe   ┆ 76   ┆ 68      │\n",
      "│ South ┆ Rydell    ┆ Jakob ┆ 56   ┆ 90      │\n",
      "│ East  ┆ Shermer   ┆ Jimmy ┆ 67   ┆ 45      │\n",
      "│ East  ┆ Shermer   ┆ Erik  ┆ 89   ┆ 66      │\n",
      "│ West  ┆ Ridgemont ┆ Lam   ┆ 100  ┆ 89      │\n",
      "│ West  ┆ Hogwarts  ┆ Yip   ┆ 55   ┆ 32      │\n",
      "└───────┴───────────┴───────┴──────┴─────────┘\n"
     ]
    }
   ],
   "source": [
    "scores = {\n",
    "    \"Zone\": [\n",
    "        \"North\",\n",
    "        \"North\",\n",
    "        \"North\",\n",
    "        \"South\",\n",
    "        \"South\",\n",
    "        \"East\",\n",
    "        \"East\",\n",
    "        \"West\",\n",
    "        \"West\",\n",
    "    ],\n",
    "    \"School\": [\n",
    "        \"Rushmore\",\n",
    "        \"Rushmore\",\n",
    "        \"Rushmore\",\n",
    "        \"Bayside\",\n",
    "        \"Rydell\",\n",
    "        \"Shermer\",\n",
    "        \"Shermer\",\n",
    "        \"Ridgemont\",\n",
    "        \"Hogwarts\",\n",
    "    ],\n",
    "    \"Name\": [\"Jonny\", \"Mary\", \"Jim\", \"Joe\", \"Jakob\", \"Jimmy\", \"Erik\", \"Lam\", \"Yip\"],\n",
    "    \"Math\": [78, 39, 798, 76, 56, 67, 89, 100, 55],\n",
    "    \"Science\": [80, 45, 80, 68, 90, 45, 66, 89, 32],\n",
    "}\n",
    "\n",
    "\n",
    "school_df = pl.DataFrame(scores)\n",
    "print(school_df)"
   ]
  },
  {
   "cell_type": "markdown",
   "id": "3ea8e065",
   "metadata": {},
   "source": [
    "We choose to **group_by** (group *based on*) `zone` (N,S,E,W).\n",
    "Then we choose to **agg**regate some columns (all of them in this case) based on that grouping.\n",
    "So, for example, the `School` column becomes a list of all the values it previously had, aggregating based on the group_by we chose."
   ]
  },
  {
   "cell_type": "code",
   "execution_count": 18,
   "id": "6f15d13e",
   "metadata": {},
   "outputs": [
    {
     "data": {
      "text/html": [
       "<div><style>\n",
       ".dataframe > thead > tr,\n",
       ".dataframe > tbody > tr {\n",
       "  text-align: right;\n",
       "  white-space: pre-wrap;\n",
       "}\n",
       "</style>\n",
       "<small>shape: (4, 5)</small><table border=\"1\" class=\"dataframe\"><thead><tr><th>Zone</th><th>School</th><th>Name</th><th>Math</th><th>Science</th></tr><tr><td>str</td><td>list[str]</td><td>list[str]</td><td>list[i64]</td><td>list[i64]</td></tr></thead><tbody><tr><td>&quot;North&quot;</td><td>[&quot;Rushmore&quot;, &quot;Rushmore&quot;, &quot;Rushmore&quot;]</td><td>[&quot;Jonny&quot;, &quot;Mary&quot;, &quot;Jim&quot;]</td><td>[78, 39, 798]</td><td>[80, 45, 80]</td></tr><tr><td>&quot;East&quot;</td><td>[&quot;Shermer&quot;, &quot;Shermer&quot;]</td><td>[&quot;Jimmy&quot;, &quot;Erik&quot;]</td><td>[67, 89]</td><td>[45, 66]</td></tr><tr><td>&quot;West&quot;</td><td>[&quot;Ridgemont&quot;, &quot;Hogwarts&quot;]</td><td>[&quot;Lam&quot;, &quot;Yip&quot;]</td><td>[100, 55]</td><td>[89, 32]</td></tr><tr><td>&quot;South&quot;</td><td>[&quot;Bayside&quot;, &quot;Rydell&quot;]</td><td>[&quot;Joe&quot;, &quot;Jakob&quot;]</td><td>[76, 56]</td><td>[68, 90]</td></tr></tbody></table></div>"
      ],
      "text/plain": [
       "shape: (4, 5)\n",
       "┌───────┬───────────────────────────┬──────────────────────────┬───────────────┬──────────────┐\n",
       "│ Zone  ┆ School                    ┆ Name                     ┆ Math          ┆ Science      │\n",
       "│ ---   ┆ ---                       ┆ ---                      ┆ ---           ┆ ---          │\n",
       "│ str   ┆ list[str]                 ┆ list[str]                ┆ list[i64]     ┆ list[i64]    │\n",
       "╞═══════╪═══════════════════════════╪══════════════════════════╪═══════════════╪══════════════╡\n",
       "│ North ┆ [\"Rushmore\", \"Rushmore\",  ┆ [\"Jonny\", \"Mary\", \"Jim\"] ┆ [78, 39, 798] ┆ [80, 45, 80] │\n",
       "│       ┆ \"Rushmo…                  ┆                          ┆               ┆              │\n",
       "│ East  ┆ [\"Shermer\", \"Shermer\"]    ┆ [\"Jimmy\", \"Erik\"]        ┆ [67, 89]      ┆ [45, 66]     │\n",
       "│ West  ┆ [\"Ridgemont\", \"Hogwarts\"] ┆ [\"Lam\", \"Yip\"]           ┆ [100, 55]     ┆ [89, 32]     │\n",
       "│ South ┆ [\"Bayside\", \"Rydell\"]     ┆ [\"Joe\", \"Jakob\"]         ┆ [76, 56]      ┆ [68, 90]     │\n",
       "└───────┴───────────────────────────┴──────────────────────────┴───────────────┴──────────────┘"
      ]
     },
     "execution_count": 18,
     "metadata": {},
     "output_type": "execute_result"
    }
   ],
   "source": [
    "q = (\n",
    "    school_df.lazy()\n",
    "    .group_by(by=\"Zone\")\n",
    "    .agg(\n",
    "        \"School\",\n",
    "        \"Name\",\n",
    "        \"Math\",\n",
    "        \"Science\",\n",
    "    )\n",
    ")\n",
    "q.collect()"
   ]
  },
  {
   "cell_type": "markdown",
   "id": "db0d42b1",
   "metadata": {},
   "source": [
    "Next we do the same, but also specify what we want to **filter** the data.  Specifically, we only want data where the `Zone` column has the value `East`.\n",
    "\n",
    "Note: we don't need to concern ourselves with the fact that we aggregated and then filtered.  This uses `.lazy()` methods; so we're merely noting requirements.\n",
    "When we call `.collect()` we request that our requirements are met and classic data is generated.  Polars will optimize the query as it's able."
   ]
  },
  {
   "cell_type": "code",
   "execution_count": 19,
   "id": "5d08586c",
   "metadata": {},
   "outputs": [
    {
     "data": {
      "text/html": [
       "<div><style>\n",
       ".dataframe > thead > tr,\n",
       ".dataframe > tbody > tr {\n",
       "  text-align: right;\n",
       "  white-space: pre-wrap;\n",
       "}\n",
       "</style>\n",
       "<small>shape: (1, 5)</small><table border=\"1\" class=\"dataframe\"><thead><tr><th>Zone</th><th>School</th><th>Name</th><th>Math</th><th>Science</th></tr><tr><td>str</td><td>list[str]</td><td>list[str]</td><td>list[i64]</td><td>list[i64]</td></tr></thead><tbody><tr><td>&quot;East&quot;</td><td>[&quot;Shermer&quot;, &quot;Shermer&quot;]</td><td>[&quot;Jimmy&quot;, &quot;Erik&quot;]</td><td>[67, 89]</td><td>[45, 66]</td></tr></tbody></table></div>"
      ],
      "text/plain": [
       "shape: (1, 5)\n",
       "┌──────┬────────────────────────┬───────────────────┬───────────┬───────────┐\n",
       "│ Zone ┆ School                 ┆ Name              ┆ Math      ┆ Science   │\n",
       "│ ---  ┆ ---                    ┆ ---               ┆ ---       ┆ ---       │\n",
       "│ str  ┆ list[str]              ┆ list[str]         ┆ list[i64] ┆ list[i64] │\n",
       "╞══════╪════════════════════════╪═══════════════════╪═══════════╪═══════════╡\n",
       "│ East ┆ [\"Shermer\", \"Shermer\"] ┆ [\"Jimmy\", \"Erik\"] ┆ [67, 89]  ┆ [45, 66]  │\n",
       "└──────┴────────────────────────┴───────────────────┴───────────┴───────────┘"
      ]
     },
     "execution_count": 19,
     "metadata": {},
     "output_type": "execute_result"
    }
   ],
   "source": [
    "q = (\n",
    "    school_df.lazy()\n",
    "    .group_by(by=\"Zone\")\n",
    "    .agg(\n",
    "        \"School\",\n",
    "        \"Name\",\n",
    "        \"Math\",\n",
    "        \"Science\",\n",
    "    )\n",
    "    .filter(pl.col(\"Zone\") == \"East\")\n",
    ")\n",
    "q.collect()"
   ]
  },
  {
   "cell_type": "markdown",
   "id": "73d11155",
   "metadata": {},
   "source": [
    "Again we group by `Zone`, but *this* time we **agg**regate by a new (manufactured) column.\n",
    "We create a new column named 'science standard deviation', that originates from the previous.\n",
    "The new column knows the origin of its values and provides a standard deviation based on them, in accordance with the Zone values we groupeed by."
   ]
  },
  {
   "cell_type": "code",
   "execution_count": 20,
   "id": "8a771542",
   "metadata": {
    "lines_to_next_cell": 2
   },
   "outputs": [
    {
     "data": {
      "text/html": [
       "<div><style>\n",
       ".dataframe > thead > tr,\n",
       ".dataframe > tbody > tr {\n",
       "  text-align: right;\n",
       "  white-space: pre-wrap;\n",
       "}\n",
       "</style>\n",
       "<small>shape: (4, 2)</small><table border=\"1\" class=\"dataframe\"><thead><tr><th>Zone</th><th>Science_std</th></tr><tr><td>str</td><td>f64</td></tr></thead><tbody><tr><td>&quot;South&quot;</td><td>15.556349</td></tr><tr><td>&quot;North&quot;</td><td>20.207259</td></tr><tr><td>&quot;East&quot;</td><td>14.849242</td></tr><tr><td>&quot;West&quot;</td><td>40.305087</td></tr></tbody></table></div>"
      ],
      "text/plain": [
       "shape: (4, 2)\n",
       "┌───────┬─────────────┐\n",
       "│ Zone  ┆ Science_std │\n",
       "│ ---   ┆ ---         │\n",
       "│ str   ┆ f64         │\n",
       "╞═══════╪═════════════╡\n",
       "│ South ┆ 15.556349   │\n",
       "│ North ┆ 20.207259   │\n",
       "│ East  ┆ 14.849242   │\n",
       "│ West  ┆ 40.305087   │\n",
       "└───────┴─────────────┘"
      ]
     },
     "execution_count": 20,
     "metadata": {},
     "output_type": "execute_result"
    }
   ],
   "source": [
    "q = (\n",
    "    school_df.lazy()\n",
    "    .group_by(by=\"Zone\")\n",
    "    .agg(\n",
    "        pl.col(\"Science\").std().alias(\"Science_std\"),\n",
    "    )\n",
    ")\n",
    "q.collect()"
   ]
  },
  {
   "cell_type": "markdown",
   "id": "4b5e62aa",
   "metadata": {},
   "source": [
    "### Note: order returned by groupby is effectively random\n",
    "###       (presumably due to split-threading)"
   ]
  },
  {
   "cell_type": "code",
   "execution_count": 21,
   "id": "4417f42e",
   "metadata": {},
   "outputs": [
    {
     "name": "stdout",
     "output_type": "stream",
     "text": [
      "shape: (4, 8)\n",
      "┌───────┬─────────────┬─────────────┬────────────┬────────────┬───────────┬───────────┬────────────┐\n",
      "│ Zone  ┆ Number of   ┆ Science(Max ┆ Science(Mi ┆ Science(Me ┆ Math(Max) ┆ Math(Min) ┆ Math(Mean) │\n",
      "│ ---   ┆ Schools     ┆ )           ┆ n)         ┆ an)        ┆ ---       ┆ ---       ┆ ---        │\n",
      "│ str   ┆ ---         ┆ ---         ┆ ---        ┆ ---        ┆ i64       ┆ i64       ┆ f64        │\n",
      "│       ┆ u32         ┆ i64         ┆ i64        ┆ f64        ┆           ┆           ┆            │\n",
      "╞═══════╪═════════════╪═════════════╪════════════╪════════════╪═══════════╪═══════════╪════════════╡\n",
      "│ North ┆ 3           ┆ 80          ┆ 45         ┆ 68.333333  ┆ 798       ┆ 39        ┆ 305.0      │\n",
      "│ West  ┆ 2           ┆ 89          ┆ 32         ┆ 60.5       ┆ 100       ┆ 55        ┆ 77.5       │\n",
      "│ South ┆ 2           ┆ 90          ┆ 68         ┆ 79.0       ┆ 76        ┆ 56        ┆ 66.0       │\n",
      "│ East  ┆ 2           ┆ 66          ┆ 45         ┆ 55.5       ┆ 89        ┆ 67        ┆ 78.0       │\n",
      "└───────┴─────────────┴─────────────┴────────────┴────────────┴───────────┴───────────┴────────────┘\n"
     ]
    }
   ],
   "source": [
    "q = (\n",
    "    school_df.lazy()\n",
    "    .group_by(by=\"Zone\")\n",
    "    .agg(\n",
    "        [\n",
    "            pl.col(\"Science\").count().alias(\"Number of Schools\"),\n",
    "            pl.col(\"Science\").max().alias(\"Science(Max)\"),\n",
    "            pl.col(\"Science\").min().alias(\"Science(Min)\"),\n",
    "            pl.col(\"Science\").mean().alias(\"Science(Mean)\"),\n",
    "            pl.col(\"Math\").max().alias(\"Math(Max)\"),\n",
    "            pl.col(\"Math\").min().alias(\"Math(Min)\"),\n",
    "            pl.col(\"Math\").mean().alias(\"Math(Mean)\"),\n",
    "        ],\n",
    "    )\n",
    ")\n",
    "print(q.collect())"
   ]
  },
  {
   "cell_type": "markdown",
   "id": "9a0ae54e",
   "metadata": {},
   "source": [
    "### `.sort()` can be used to deal with the variable ordering"
   ]
  },
  {
   "cell_type": "code",
   "execution_count": 22,
   "id": "4da1d640",
   "metadata": {},
   "outputs": [
    {
     "name": "stdout",
     "output_type": "stream",
     "text": [
      "shape: (4, 8)\n",
      "┌───────┬─────────────┬─────────────┬────────────┬────────────┬───────────┬───────────┬────────────┐\n",
      "│ Zone  ┆ Number of   ┆ Science(Max ┆ Science(Mi ┆ Science(Me ┆ Math(Max) ┆ Math(Min) ┆ Math(Mean) │\n",
      "│ ---   ┆ Schools     ┆ )           ┆ n)         ┆ an)        ┆ ---       ┆ ---       ┆ ---        │\n",
      "│ str   ┆ ---         ┆ ---         ┆ ---        ┆ ---        ┆ i64       ┆ i64       ┆ f64        │\n",
      "│       ┆ u32         ┆ i64         ┆ i64        ┆ f64        ┆           ┆           ┆            │\n",
      "╞═══════╪═════════════╪═════════════╪════════════╪════════════╪═══════════╪═══════════╪════════════╡\n",
      "│ East  ┆ 2           ┆ 66          ┆ 45         ┆ 55.5       ┆ 89        ┆ 67        ┆ 78.0       │\n",
      "│ North ┆ 3           ┆ 80          ┆ 45         ┆ 68.333333  ┆ 798       ┆ 39        ┆ 305.0      │\n",
      "│ South ┆ 2           ┆ 90          ┆ 68         ┆ 79.0       ┆ 76        ┆ 56        ┆ 66.0       │\n",
      "│ West  ┆ 2           ┆ 89          ┆ 32         ┆ 60.5       ┆ 100       ┆ 55        ┆ 77.5       │\n",
      "└───────┴─────────────┴─────────────┴────────────┴────────────┴───────────┴───────────┴────────────┘\n"
     ]
    }
   ],
   "source": [
    "q = (\n",
    "    school_df.lazy()\n",
    "    .group_by(by=\"Zone\")\n",
    "    .agg(\n",
    "        [\n",
    "            pl.col(\"Science\").count().alias(\"Number of Schools\"),\n",
    "            pl.col(\"Science\").max().alias(\"Science(Max)\"),\n",
    "            pl.col(\"Science\").min().alias(\"Science(Min)\"),\n",
    "            pl.col(\"Science\").mean().alias(\"Science(Mean)\"),\n",
    "            pl.col(\"Math\").max().alias(\"Math(Max)\"),\n",
    "            pl.col(\"Math\").min().alias(\"Math(Min)\"),\n",
    "            pl.col(\"Math\").mean().alias(\"Math(Mean)\"),\n",
    "        ],\n",
    "    )\n",
    "    .sort(by=\"Zone\")\n",
    ")\n",
    "print(q.collect())"
   ]
  },
  {
   "cell_type": "markdown",
   "id": "d5ba5f88",
   "metadata": {},
   "source": [
    "### Here's one hack to create custom ordering :\n",
    "### joining another dataframe and hiding an invisible ordering column"
   ]
  },
  {
   "cell_type": "code",
   "execution_count": 23,
   "id": "0182b056",
   "metadata": {},
   "outputs": [
    {
     "data": {
      "text/html": [
       "<div><style>\n",
       ".dataframe > thead > tr,\n",
       ".dataframe > tbody > tr {\n",
       "  text-align: right;\n",
       "  white-space: pre-wrap;\n",
       "}\n",
       "</style>\n",
       "<small>shape: (4, 2)</small><table border=\"1\" class=\"dataframe\"><thead><tr><th>Zone</th><th>Science(Max)</th></tr><tr><td>str</td><td>i64</td></tr></thead><tbody><tr><td>&quot;North&quot;</td><td>80</td></tr><tr><td>&quot;South&quot;</td><td>90</td></tr><tr><td>&quot;East&quot;</td><td>66</td></tr><tr><td>&quot;West&quot;</td><td>89</td></tr></tbody></table></div>"
      ],
      "text/plain": [
       "shape: (4, 2)\n",
       "┌───────┬──────────────┐\n",
       "│ Zone  ┆ Science(Max) │\n",
       "│ ---   ┆ ---          │\n",
       "│ str   ┆ i64          │\n",
       "╞═══════╪══════════════╡\n",
       "│ North ┆ 80           │\n",
       "│ South ┆ 90           │\n",
       "│ East  ┆ 66           │\n",
       "│ West  ┆ 89           │\n",
       "└───────┴──────────────┘"
      ]
     },
     "execution_count": 23,
     "metadata": {},
     "output_type": "execute_result"
    }
   ],
   "source": [
    "df_sortorder = pl.DataFrame(\n",
    "    {\n",
    "        \"Zone\": [\"North\", \"South\", \"East\", \"West\"],\n",
    "        \"Zone_order\": [0, 1, 2, 3],\n",
    "    },\n",
    ").lazy()\n",
    "\n",
    "q = (\n",
    "    school_df.lazy()\n",
    "    .join(df_sortorder, on=\"Zone\", how=\"left\")\n",
    "    .group_by(by=[\"Zone\", \"Zone_order\"])\n",
    "    .agg([pl.max(\"Science\").alias(\"Science(Max)\")])\n",
    "    .sort(\"Zone_order\")  # we sort on zone_order here\n",
    "    .select(pl.exclude(\"Zone_order\"))  # and then exclude it\n",
    ")\n",
    "q.collect()"
   ]
  },
  {
   "cell_type": "markdown",
   "id": "fa5ee7ce",
   "metadata": {},
   "source": [
    "# Insurance CSV"
   ]
  },
  {
   "cell_type": "code",
   "execution_count": 24,
   "id": "37f01420",
   "metadata": {},
   "outputs": [
    {
     "data": {
      "text/html": [
       "<div><style>\n",
       ".dataframe > thead > tr,\n",
       ".dataframe > tbody > tr {\n",
       "  text-align: right;\n",
       "  white-space: pre-wrap;\n",
       "}\n",
       "</style>\n",
       "<small>shape: (1_338, 7)</small><table border=\"1\" class=\"dataframe\"><thead><tr><th>age</th><th>sex</th><th>bmi</th><th>children</th><th>smoker</th><th>region</th><th>charges</th></tr><tr><td>i64</td><td>str</td><td>f64</td><td>i64</td><td>str</td><td>str</td><td>f64</td></tr></thead><tbody><tr><td>19</td><td>&quot;female&quot;</td><td>27.9</td><td>0</td><td>&quot;yes&quot;</td><td>&quot;southwest&quot;</td><td>16884.924</td></tr><tr><td>18</td><td>&quot;male&quot;</td><td>33.77</td><td>1</td><td>&quot;no&quot;</td><td>&quot;southeast&quot;</td><td>1725.5523</td></tr><tr><td>28</td><td>&quot;male&quot;</td><td>33.0</td><td>3</td><td>&quot;no&quot;</td><td>&quot;southeast&quot;</td><td>4449.462</td></tr><tr><td>33</td><td>&quot;male&quot;</td><td>22.705</td><td>0</td><td>&quot;no&quot;</td><td>&quot;northwest&quot;</td><td>21984.47061</td></tr><tr><td>32</td><td>&quot;male&quot;</td><td>28.88</td><td>0</td><td>&quot;no&quot;</td><td>&quot;northwest&quot;</td><td>3866.8552</td></tr><tr><td>31</td><td>&quot;female&quot;</td><td>25.74</td><td>0</td><td>&quot;no&quot;</td><td>&quot;southeast&quot;</td><td>3756.6216</td></tr><tr><td>46</td><td>&quot;female&quot;</td><td>33.44</td><td>1</td><td>&quot;no&quot;</td><td>&quot;southeast&quot;</td><td>8240.5896</td></tr><tr><td>37</td><td>&quot;female&quot;</td><td>27.74</td><td>3</td><td>&quot;no&quot;</td><td>&quot;northwest&quot;</td><td>7281.5056</td></tr><tr><td>37</td><td>&quot;male&quot;</td><td>29.83</td><td>2</td><td>&quot;no&quot;</td><td>&quot;northeast&quot;</td><td>6406.4107</td></tr><tr><td>60</td><td>&quot;female&quot;</td><td>25.84</td><td>0</td><td>&quot;no&quot;</td><td>&quot;northwest&quot;</td><td>28923.13692</td></tr><tr><td>25</td><td>&quot;male&quot;</td><td>26.22</td><td>0</td><td>&quot;no&quot;</td><td>&quot;northeast&quot;</td><td>2721.3208</td></tr><tr><td>62</td><td>&quot;female&quot;</td><td>26.29</td><td>0</td><td>&quot;yes&quot;</td><td>&quot;southeast&quot;</td><td>27808.7251</td></tr><tr><td>&hellip;</td><td>&hellip;</td><td>&hellip;</td><td>&hellip;</td><td>&hellip;</td><td>&hellip;</td><td>&hellip;</td></tr><tr><td>42</td><td>&quot;female&quot;</td><td>32.87</td><td>0</td><td>&quot;no&quot;</td><td>&quot;northeast&quot;</td><td>7050.0213</td></tr><tr><td>51</td><td>&quot;male&quot;</td><td>30.03</td><td>1</td><td>&quot;no&quot;</td><td>&quot;southeast&quot;</td><td>9377.9047</td></tr><tr><td>23</td><td>&quot;female&quot;</td><td>24.225</td><td>2</td><td>&quot;no&quot;</td><td>&quot;northeast&quot;</td><td>22395.74424</td></tr><tr><td>52</td><td>&quot;male&quot;</td><td>38.6</td><td>2</td><td>&quot;no&quot;</td><td>&quot;southwest&quot;</td><td>10325.206</td></tr><tr><td>57</td><td>&quot;female&quot;</td><td>25.74</td><td>2</td><td>&quot;no&quot;</td><td>&quot;southeast&quot;</td><td>12629.1656</td></tr><tr><td>23</td><td>&quot;female&quot;</td><td>33.4</td><td>0</td><td>&quot;no&quot;</td><td>&quot;southwest&quot;</td><td>10795.93733</td></tr><tr><td>52</td><td>&quot;female&quot;</td><td>44.7</td><td>3</td><td>&quot;no&quot;</td><td>&quot;southwest&quot;</td><td>11411.685</td></tr><tr><td>50</td><td>&quot;male&quot;</td><td>30.97</td><td>3</td><td>&quot;no&quot;</td><td>&quot;northwest&quot;</td><td>10600.5483</td></tr><tr><td>18</td><td>&quot;female&quot;</td><td>31.92</td><td>0</td><td>&quot;no&quot;</td><td>&quot;northeast&quot;</td><td>2205.9808</td></tr><tr><td>18</td><td>&quot;female&quot;</td><td>36.85</td><td>0</td><td>&quot;no&quot;</td><td>&quot;southeast&quot;</td><td>1629.8335</td></tr><tr><td>21</td><td>&quot;female&quot;</td><td>25.8</td><td>0</td><td>&quot;no&quot;</td><td>&quot;southwest&quot;</td><td>2007.945</td></tr><tr><td>61</td><td>&quot;female&quot;</td><td>29.07</td><td>0</td><td>&quot;yes&quot;</td><td>&quot;northwest&quot;</td><td>29141.3603</td></tr></tbody></table></div>"
      ],
      "text/plain": [
       "shape: (1_338, 7)\n",
       "┌─────┬────────┬────────┬──────────┬────────┬───────────┬─────────────┐\n",
       "│ age ┆ sex    ┆ bmi    ┆ children ┆ smoker ┆ region    ┆ charges     │\n",
       "│ --- ┆ ---    ┆ ---    ┆ ---      ┆ ---    ┆ ---       ┆ ---         │\n",
       "│ i64 ┆ str    ┆ f64    ┆ i64      ┆ str    ┆ str       ┆ f64         │\n",
       "╞═════╪════════╪════════╪══════════╪════════╪═══════════╪═════════════╡\n",
       "│ 19  ┆ female ┆ 27.9   ┆ 0        ┆ yes    ┆ southwest ┆ 16884.924   │\n",
       "│ 18  ┆ male   ┆ 33.77  ┆ 1        ┆ no     ┆ southeast ┆ 1725.5523   │\n",
       "│ 28  ┆ male   ┆ 33.0   ┆ 3        ┆ no     ┆ southeast ┆ 4449.462    │\n",
       "│ 33  ┆ male   ┆ 22.705 ┆ 0        ┆ no     ┆ northwest ┆ 21984.47061 │\n",
       "│ …   ┆ …      ┆ …      ┆ …        ┆ …      ┆ …         ┆ …           │\n",
       "│ 18  ┆ female ┆ 31.92  ┆ 0        ┆ no     ┆ northeast ┆ 2205.9808   │\n",
       "│ 18  ┆ female ┆ 36.85  ┆ 0        ┆ no     ┆ southeast ┆ 1629.8335   │\n",
       "│ 21  ┆ female ┆ 25.8   ┆ 0        ┆ no     ┆ southwest ┆ 2007.945    │\n",
       "│ 61  ┆ female ┆ 29.07  ┆ 0        ┆ yes    ┆ northwest ┆ 29141.3603  │\n",
       "└─────┴────────┴────────┴──────────┴────────┴───────────┴─────────────┘"
      ]
     },
     "execution_count": 24,
     "metadata": {},
     "output_type": "execute_result"
    }
   ],
   "source": [
    "insurance_df = pl.scan_csv(\"../data/insurance.csv\")\n",
    "insurance_df.collect()"
   ]
  },
  {
   "cell_type": "code",
   "execution_count": 25,
   "id": "9709dcbf",
   "metadata": {},
   "outputs": [
    {
     "data": {
      "text/html": [
       "<div><style>\n",
       ".dataframe > thead > tr,\n",
       ".dataframe > tbody > tr {\n",
       "  text-align: right;\n",
       "  white-space: pre-wrap;\n",
       "}\n",
       "</style>\n",
       "<small>shape: (2, 2)</small><table border=\"1\" class=\"dataframe\"><thead><tr><th>sex</th><th>charges</th></tr><tr><td>str</td><td>f64</td></tr></thead><tbody><tr><td>&quot;female&quot;</td><td>8.3211e6</td></tr><tr><td>&quot;male&quot;</td><td>9.4348e6</td></tr></tbody></table></div>"
      ],
      "text/plain": [
       "shape: (2, 2)\n",
       "┌────────┬──────────┐\n",
       "│ sex    ┆ charges  │\n",
       "│ ---    ┆ ---      │\n",
       "│ str    ┆ f64      │\n",
       "╞════════╪══════════╡\n",
       "│ female ┆ 8.3211e6 │\n",
       "│ male   ┆ 9.4348e6 │\n",
       "└────────┴──────────┘"
      ]
     },
     "execution_count": 25,
     "metadata": {},
     "output_type": "execute_result"
    }
   ],
   "source": [
    "(\n",
    "    pl.scan_csv(\"../data/insurance.csv\")\n",
    "    .group_by(by=\"sex\")\n",
    "    .agg(\n",
    "        [pl.col(\"charges\").sum()],\n",
    "    )\n",
    ").collect()"
   ]
  },
  {
   "cell_type": "markdown",
   "id": "fb3ec059",
   "metadata": {},
   "source": [
    "The logical operation actually creates a boolean value for each entry.  That can act as a value itself.\n",
    "It can also be used in a reverse-truthy manner (\"numbry\"?) allowing calculations or other operations on the values."
   ]
  },
  {
   "cell_type": "code",
   "execution_count": 26,
   "id": "988cab1f",
   "metadata": {},
   "outputs": [
    {
     "data": {
      "text/html": [
       "<div><style>\n",
       ".dataframe > thead > tr,\n",
       ".dataframe > tbody > tr {\n",
       "  text-align: right;\n",
       "  white-space: pre-wrap;\n",
       "}\n",
       "</style>\n",
       "<small>shape: (4, 4)</small><table border=\"1\" class=\"dataframe\"><thead><tr><th>region</th><th>is_male</th><th>#of male</th><th>#of female</th></tr><tr><td>str</td><td>list[bool]</td><td>u32</td><td>u32</td></tr></thead><tbody><tr><td>&quot;northeast&quot;</td><td>[true, true, … false]</td><td>163</td><td>161</td></tr><tr><td>&quot;northwest&quot;</td><td>[true, true, … false]</td><td>161</td><td>164</td></tr><tr><td>&quot;southeast&quot;</td><td>[true, true, … false]</td><td>189</td><td>175</td></tr><tr><td>&quot;southwest&quot;</td><td>[false, true, … false]</td><td>163</td><td>162</td></tr></tbody></table></div>"
      ],
      "text/plain": [
       "shape: (4, 4)\n",
       "┌───────────┬────────────────────────┬──────────┬────────────┐\n",
       "│ region    ┆ is_male                ┆ #of male ┆ #of female │\n",
       "│ ---       ┆ ---                    ┆ ---      ┆ ---        │\n",
       "│ str       ┆ list[bool]             ┆ u32      ┆ u32        │\n",
       "╞═══════════╪════════════════════════╪══════════╪════════════╡\n",
       "│ northeast ┆ [true, true, … false]  ┆ 163      ┆ 161        │\n",
       "│ northwest ┆ [true, true, … false]  ┆ 161      ┆ 164        │\n",
       "│ southeast ┆ [true, true, … false]  ┆ 189      ┆ 175        │\n",
       "│ southwest ┆ [false, true, … false] ┆ 163      ┆ 162        │\n",
       "└───────────┴────────────────────────┴──────────┴────────────┘"
      ]
     },
     "execution_count": 26,
     "metadata": {},
     "output_type": "execute_result"
    }
   ],
   "source": [
    "q = (\n",
    "    pl.scan_csv(\"../data/insurance.csv\")\n",
    "    .group_by(by=\"region\")\n",
    "    .agg(\n",
    "        [\n",
    "            (pl.col(\"sex\") == \"male\").alias(\"is_male\"),\n",
    "            (pl.col(\"sex\") == \"male\").sum().alias(\"#of male\"),\n",
    "            (pl.col(\"sex\") == \"female\").sum().alias(\"#of female\"),\n",
    "        ],\n",
    "    )\n",
    "    .sort(by=\"region\")\n",
    ")\n",
    "q.collect()"
   ]
  },
  {
   "cell_type": "code",
   "execution_count": 27,
   "id": "6dd10c26",
   "metadata": {},
   "outputs": [
    {
     "data": {
      "text/html": [
       "<div><style>\n",
       ".dataframe > thead > tr,\n",
       ".dataframe > tbody > tr {\n",
       "  text-align: right;\n",
       "  white-space: pre-wrap;\n",
       "}\n",
       "</style>\n",
       "<small>shape: (4, 4)</small><table border=\"1\" class=\"dataframe\"><thead><tr><th>region</th><th>male_mean_charges</th><th>female_mean_charges</th><th>male_charge_list</th></tr><tr><td>str</td><td>f64</td><td>f64</td><td>list[f64]</td></tr></thead><tbody><tr><td>&quot;northeast&quot;</td><td>13854.005374</td><td>12953.203151</td><td>[6406.4107, 2721.3208, … 13143.33665]</td></tr><tr><td>&quot;northwest&quot;</td><td>12354.119575</td><td>12479.870397</td><td>[21984.47061, 3866.8552, … 10600.5483]</td></tr><tr><td>&quot;southeast&quot;</td><td>15879.617173</td><td>13499.669243</td><td>[1725.5523, 4449.462, … 9377.9047]</td></tr><tr><td>&quot;southwest&quot;</td><td>13412.883576</td><td>11274.411264</td><td>[1826.843, 1837.237, … 10325.206]</td></tr></tbody></table></div>"
      ],
      "text/plain": [
       "shape: (4, 4)\n",
       "┌───────────┬───────────────────┬─────────────────────┬───────────────────────────────────┐\n",
       "│ region    ┆ male_mean_charges ┆ female_mean_charges ┆ male_charge_list                  │\n",
       "│ ---       ┆ ---               ┆ ---                 ┆ ---                               │\n",
       "│ str       ┆ f64               ┆ f64                 ┆ list[f64]                         │\n",
       "╞═══════════╪═══════════════════╪═════════════════════╪═══════════════════════════════════╡\n",
       "│ northeast ┆ 13854.005374      ┆ 12953.203151        ┆ [6406.4107, 2721.3208, … 13143.3… │\n",
       "│ northwest ┆ 12354.119575      ┆ 12479.870397        ┆ [21984.47061, 3866.8552, … 10600… │\n",
       "│ southeast ┆ 15879.617173      ┆ 13499.669243        ┆ [1725.5523, 4449.462, … 9377.904… │\n",
       "│ southwest ┆ 13412.883576      ┆ 11274.411264        ┆ [1826.843, 1837.237, … 10325.206… │\n",
       "└───────────┴───────────────────┴─────────────────────┴───────────────────────────────────┘"
      ]
     },
     "execution_count": 27,
     "metadata": {},
     "output_type": "execute_result"
    }
   ],
   "source": [
    "q = (\n",
    "    pl.scan_csv(\"../data/insurance.csv\")\n",
    "    .group_by(by=\"region\")\n",
    "    .agg(\n",
    "        [\n",
    "            (pl.col(\"charges\").filter(pl.col(\"sex\") == \"male\"))\n",
    "            .mean()\n",
    "            .alias(\"male_mean_charges\"),\n",
    "            (pl.col(\"charges\").filter(pl.col(\"sex\") == \"female\"))\n",
    "            .mean()\n",
    "            .alias(\"female_mean_charges\"),\n",
    "            (pl.col(\"charges\").filter(pl.col(\"sex\") == \"male\")).alias(\"male_charge_list\"),\n",
    "        ],\n",
    "    )\n",
    "    .sort(by=\"region\")\n",
    ")\n",
    "q.collect()"
   ]
  },
  {
   "cell_type": "code",
   "execution_count": 28,
   "id": "5271ddb7",
   "metadata": {},
   "outputs": [
    {
     "data": {
      "text/html": [
       "<div><style>\n",
       ".dataframe > thead > tr,\n",
       ".dataframe > tbody > tr {\n",
       "  text-align: right;\n",
       "  white-space: pre-wrap;\n",
       "}\n",
       "</style>\n",
       "<small>shape: (4, 4)</small><table border=\"1\" class=\"dataframe\"><thead><tr><th>region</th><th>smoker_Q_count</th><th>yes_smoker_count</th><th>no_smoker_count</th></tr><tr><td>str</td><td>u32</td><td>u32</td><td>u32</td></tr></thead><tbody><tr><td>&quot;northwest&quot;</td><td>325</td><td>58</td><td>267</td></tr><tr><td>&quot;southeast&quot;</td><td>364</td><td>91</td><td>273</td></tr><tr><td>&quot;northeast&quot;</td><td>324</td><td>67</td><td>257</td></tr><tr><td>&quot;southwest&quot;</td><td>325</td><td>58</td><td>267</td></tr></tbody></table></div>"
      ],
      "text/plain": [
       "shape: (4, 4)\n",
       "┌───────────┬────────────────┬──────────────────┬─────────────────┐\n",
       "│ region    ┆ smoker_Q_count ┆ yes_smoker_count ┆ no_smoker_count │\n",
       "│ ---       ┆ ---            ┆ ---              ┆ ---             │\n",
       "│ str       ┆ u32            ┆ u32              ┆ u32             │\n",
       "╞═══════════╪════════════════╪══════════════════╪═════════════════╡\n",
       "│ northwest ┆ 325            ┆ 58               ┆ 267             │\n",
       "│ southeast ┆ 364            ┆ 91               ┆ 273             │\n",
       "│ northeast ┆ 324            ┆ 67               ┆ 257             │\n",
       "│ southwest ┆ 325            ┆ 58               ┆ 267             │\n",
       "└───────────┴────────────────┴──────────────────┴─────────────────┘"
      ]
     },
     "execution_count": 28,
     "metadata": {},
     "output_type": "execute_result"
    }
   ],
   "source": [
    "q = (\n",
    "    pl.scan_csv(\"../data/insurance.csv\")\n",
    "    .group_by(by=\"region\")\n",
    "    .agg(\n",
    "        [\n",
    "            pl.col(\"smoker\").count().alias(\"smoker_Q_count\"),\n",
    "            (pl.col(\"smoker\") == \"yes\").sum().alias(\"yes_smoker_count\"),\n",
    "            (pl.col(\"smoker\") == \"no\").sum().alias(\"no_smoker_count\"),\n",
    "        ],\n",
    "    )\n",
    ")\n",
    "\n",
    "q.collect()"
   ]
  },
  {
   "cell_type": "markdown",
   "id": "5f740d9a",
   "metadata": {},
   "source": [
    "### NOTE: `.count()` counts all entries,\n",
    "###       `.sum()` counts all values that are true (assuming a boolean on column)"
   ]
  },
  {
   "cell_type": "code",
   "execution_count": 29,
   "id": "c90414f8",
   "metadata": {},
   "outputs": [
    {
     "data": {
      "text/html": [
       "<div><style>\n",
       ".dataframe > thead > tr,\n",
       ".dataframe > tbody > tr {\n",
       "  text-align: right;\n",
       "  white-space: pre-wrap;\n",
       "}\n",
       "</style>\n",
       "<small>shape: (4, 2)</small><table border=\"1\" class=\"dataframe\"><thead><tr><th>region</th><th>smoker</th></tr><tr><td>str</td><td>u32</td></tr></thead><tbody><tr><td>&quot;northeast&quot;</td><td>67</td></tr><tr><td>&quot;northwest&quot;</td><td>58</td></tr><tr><td>&quot;southeast&quot;</td><td>91</td></tr><tr><td>&quot;southwest&quot;</td><td>58</td></tr></tbody></table></div>"
      ],
      "text/plain": [
       "shape: (4, 2)\n",
       "┌───────────┬────────┐\n",
       "│ region    ┆ smoker │\n",
       "│ ---       ┆ ---    │\n",
       "│ str       ┆ u32    │\n",
       "╞═══════════╪════════╡\n",
       "│ northeast ┆ 67     │\n",
       "│ northwest ┆ 58     │\n",
       "│ southeast ┆ 91     │\n",
       "│ southwest ┆ 58     │\n",
       "└───────────┴────────┘"
      ]
     },
     "execution_count": 29,
     "metadata": {},
     "output_type": "execute_result"
    }
   ],
   "source": [
    "q = (\n",
    "    pl.scan_csv(\"../data/insurance.csv\")\n",
    "    .group_by(by=\"region\")\n",
    "    .agg([(pl.col(\"smoker\") == \"yes\").sum()])\n",
    "    .sort(by=\"region\")\n",
    ")\n",
    "q.collect()"
   ]
  }
 ],
 "metadata": {
  "jupytext": {
   "cell_metadata_filter": "-all",
   "formats": "ipynb,.ju.py:percent"
  },
  "kernelspec": {
   "display_name": ".venv",
   "language": "python",
   "name": "python3"
  },
  "language_info": {
   "codemirror_mode": {
    "name": "ipython",
    "version": 3
   },
   "file_extension": ".py",
   "mimetype": "text/x-python",
   "name": "python",
   "nbconvert_exporter": "python",
   "pygments_lexer": "ipython3",
   "version": "3.12.1"
  }
 },
 "nbformat": 4,
 "nbformat_minor": 5
}
